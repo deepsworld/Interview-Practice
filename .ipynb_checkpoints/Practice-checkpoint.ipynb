{
 "cells": [
  {
   "cell_type": "code",
   "execution_count": 2,
   "metadata": {},
   "outputs": [
    {
     "data": {
      "text/plain": [
       "10"
      ]
     },
     "execution_count": 2,
     "metadata": {},
     "output_type": "execute_result"
    }
   ],
   "source": [
    "value = 10\n",
    "value"
   ]
  },
  {
   "cell_type": "code",
   "execution_count": 6,
   "metadata": {},
   "outputs": [
    {
     "data": {
      "text/plain": [
       "['g', 'i', 'n', 'r', 's', 't']"
      ]
     },
     "execution_count": 6,
     "metadata": {},
     "output_type": "execute_result"
    }
   ],
   "source": [
    "sorted(\"string\")"
   ]
  },
  {
   "cell_type": "code",
   "execution_count": 28,
   "metadata": {},
   "outputs": [
    {
     "data": {
      "text/plain": [
       "'Pto stehg ee rgamn agae'"
      ]
     },
     "execution_count": 28,
     "metadata": {},
     "output_type": "execute_result"
    }
   ],
   "source": [
    "a = \"Python is the high level programming language\"\n",
    "a[::2]"
   ]
  },
  {
   "cell_type": "code",
   "execution_count": 51,
   "metadata": {},
   "outputs": [
    {
     "data": {
      "text/plain": [
       "(3+30j)"
      ]
     },
     "execution_count": 51,
     "metadata": {},
     "output_type": "execute_result"
    }
   ],
   "source": [
    "# type casting\n",
    "int(1.0)\n",
    "float(1)\n",
    "str(1)\n",
    "a = complex(1 + 10j) + complex(2 + 20j)\n",
    "a"
   ]
  },
  {
   "cell_type": "markdown",
   "metadata": {},
   "source": [
    " # Flow controls \n",
    "\n",
    "1. Conditional Statements\n",
    "2. Transfer Statements\n",
    "3. Iterative Statements"
   ]
  },
  {
   "cell_type": "code",
   "execution_count": 46,
   "metadata": {},
   "outputs": [
    {
     "name": "stdout",
     "output_type": "stream",
     "text": [
      "No good bro\n"
     ]
    }
   ],
   "source": [
    "# Conditional Statement\n",
    "a = 12\n",
    "if a == 10:\n",
    "    print(\"You good bro\")\n",
    "elif a == 11:\n",
    "    print(\"You still good bro\")\n",
    "else:\n",
    "    print(\"No good bro\")"
   ]
  },
  {
   "cell_type": "code",
   "execution_count": 49,
   "metadata": {},
   "outputs": [
    {
     "ename": "SyntaxError",
     "evalue": "'continue' not properly in loop (<ipython-input-49-5f429da0079c>, line 8)",
     "output_type": "error",
     "traceback": [
      "\u001b[1;36m  File \u001b[1;32m\"<ipython-input-49-5f429da0079c>\"\u001b[1;36m, line \u001b[1;32m8\u001b[0m\n\u001b[1;31mSyntaxError\u001b[0m\u001b[1;31m:\u001b[0m 'continue' not properly in loop\n"
     ]
    }
   ],
   "source": [
    "# Transfer Statement\n",
    "pass \n",
    "continue\n",
    "break"
   ]
  },
  {
   "cell_type": "code",
   "execution_count": 74,
   "metadata": {},
   "outputs": [
    {
     "name": "stdout",
     "output_type": "stream",
     "text": [
      "0\n",
      "1\n",
      "2\n",
      "3\n",
      "4\n",
      "10\n",
      "8\n",
      "6\n",
      "4\n",
      "2\n",
      "0\n"
     ]
    }
   ],
   "source": [
    "# Iterative Statements\n",
    "for i in range(5):\n",
    "    print(i)\n",
    "i  = 10\n",
    "while i >= 0:\n",
    "    print(i)\n",
    "    i = i - 2  "
   ]
  },
  {
   "cell_type": "code",
   "execution_count": 59,
   "metadata": {},
   "outputs": [
    {
     "name": "stdout",
     "output_type": "stream",
     "text": [
      "Enter your name:Deep\n",
      "Hello Deep\n"
     ]
    }
   ],
   "source": [
    "name = input(\"Enter your name:\")\n",
    "print(\"Hello {:}\".format(name))"
   ]
  },
  {
   "cell_type": "code",
   "execution_count": 101,
   "metadata": {},
   "outputs": [
    {
     "name": "stdout",
     "output_type": "stream",
     "text": [
      "7\n",
      "[2, 3, 10, 25, 52, 65, 98]\n",
      "1755281454408\n"
     ]
    },
    {
     "data": {
      "text/plain": [
       "1755281454408"
      ]
     },
     "execution_count": 101,
     "metadata": {},
     "output_type": "execute_result"
    }
   ],
   "source": [
    "# Keywords\n",
    "a = [10,25,65,98,52,2,3]\n",
    "print(len(a))\n",
    "print(sorted(a))\n",
    "print(id(a))\n",
    "a.sort()\n",
    "id(a)"
   ]
  },
  {
   "cell_type": "markdown",
   "metadata": {},
   "source": [
    "foo.reverse() actually reverses the elements in the container.\n",
    "reversed() doesn't actually reverse anything, it merely returns\n",
    "an object that can be used to iterate over the container's\n",
    "elements in reverse order. If that's what you need, it's \n",
    "often faster than actually reversing the elements."
   ]
  },
  {
   "cell_type": "code",
   "execution_count": null,
   "metadata": {},
   "outputs": [],
   "source": [
    "a.reverse() # actually reverses the "
   ]
  },
  {
   "cell_type": "code",
   "execution_count": 103,
   "metadata": {},
   "outputs": [
    {
     "name": "stdout",
     "output_type": "stream",
     "text": [
      "[98, 65, 52, 25, 10, 3, 2]\n"
     ]
    },
    {
     "data": {
      "text/plain": [
       "<list_reverseiterator at 0x198aeed0240>"
      ]
     },
     "execution_count": 103,
     "metadata": {},
     "output_type": "execute_result"
    }
   ],
   "source": [
    "a.reverse()\n",
    "print(a)\n",
    "id(a) # unique number to identify the object through out its life time"
   ]
  },
  {
   "cell_type": "code",
   "execution_count": 107,
   "metadata": {},
   "outputs": [
    {
     "name": "stdout",
     "output_type": "stream",
     "text": [
      "1755281454408\n",
      "1755281454408\n"
     ]
    }
   ],
   "source": [
    "reversed(a)\n",
    "print(id(a))\n",
    "a.reverse()\n",
    "print(id(a))"
   ]
  },
  {
   "cell_type": "code",
   "execution_count": 17,
   "metadata": {},
   "outputs": [
    {
     "data": {
      "text/plain": [
       "1"
      ]
     },
     "execution_count": 17,
     "metadata": {},
     "output_type": "execute_result"
    }
   ],
   "source": [
    "35//30"
   ]
  },
  {
   "cell_type": "code",
   "execution_count": 22,
   "metadata": {},
   "outputs": [
    {
     "data": {
      "text/plain": [
       "1.1666666666666667"
      ]
     },
     "execution_count": 22,
     "metadata": {},
     "output_type": "execute_result"
    }
   ],
   "source": [
    "35/30.000"
   ]
  },
  {
   "cell_type": "code",
   "execution_count": 26,
   "metadata": {},
   "outputs": [
    {
     "data": {
      "text/plain": [
       "2"
      ]
     },
     "execution_count": 26,
     "metadata": {},
     "output_type": "execute_result"
    }
   ],
   "source": [
    "len(str(25))"
   ]
  },
  {
   "cell_type": "code",
   "execution_count": 29,
   "metadata": {},
   "outputs": [
    {
     "data": {
      "text/plain": [
       "'2525'"
      ]
     },
     "execution_count": 29,
     "metadata": {},
     "output_type": "execute_result"
    }
   ],
   "source": [
    "str(25) + str(25)"
   ]
  },
  {
   "cell_type": "code",
   "execution_count": 37,
   "metadata": {},
   "outputs": [
    {
     "data": {
      "text/plain": [
       "'hello bro'"
      ]
     },
     "execution_count": 37,
     "metadata": {},
     "output_type": "execute_result"
    }
   ],
   "source": [
    "msn = 'bro'\n",
    "'hello' + ' ' + msn"
   ]
  },
  {
   "cell_type": "code",
   "execution_count": 40,
   "metadata": {},
   "outputs": [
    {
     "data": {
      "text/plain": [
       "'brobrobrobrobrobrobrobrobrobrobrobrobrobrobrobrobrobrobrobrobrobrobrobrobrobrobrobrobrobrobrobrobrobrobrobrobrobrobrobrobrobrobrobrobrobrobrobrobrobro\\n'"
      ]
     },
     "execution_count": 40,
     "metadata": {},
     "output_type": "execute_result"
    }
   ],
   "source": [
    "50 * 'bro'"
   ]
  },
  {
   "cell_type": "code",
   "execution_count": 47,
   "metadata": {},
   "outputs": [
    {
     "name": "stdout",
     "output_type": "stream",
     "text": [
      "yes\n",
      "yes\n"
     ]
    }
   ],
   "source": [
    "lis = [1,2,3,4,5]\n",
    "for _ in lis:\n",
    "    if _ in [1,2]:\n",
    "        print('yes')"
   ]
  },
  {
   "cell_type": "markdown",
   "metadata": {},
   "source": [
    "Q Program to count total number of negative elements in array\n",
    "Example\n",
    "Input: [5,-8,1,-9,-6]\n",
    "Output: count of negative elements: 3\n",
    "\n",
    "Q Program to find sum of all elements of an array\n",
    "Example\n",
    "Input: [5,8,1,9,6]\n",
    "Output: sum= 29\n",
    "\n",
    "Q Find largest and smallest number in array?\n",
    "Example\n",
    "Input: [5,-2,9,-3,-10,8,15,0,9]\n",
    "Output: Max:15 Min:-10\n",
    "\n",
    "\n",
    "Q Program to print sum of all even numbers between 1 to n.\n",
    "Example\n",
    "Input: n = 10\n",
    "Output: 30 \n",
    "Explaination: 2+4+6+8+10\n",
    "\n",
    "Q Program to print sum of all odd numbers between 1 to n.\n",
    "Example\n",
    "Input: n = 10\n",
    "Output: 25\n",
    "Explaination: 1+3+5+7+9\n",
    "\n",
    "Q Program to enter any number and calculate sum of its digits.\n",
    "Example \n",
    "Input: 528 \n",
    "Ouput: 5+2+8 = 15\n",
    "\n",
    "Q Program to enter any number and calculate multiplication of its digits.\n",
    "Example \n",
    "Input: 528 \n",
    "Ouput: 5*2*8 = 80\n",
    "\n",
    "Q Input a number and print the reverse of the num\n",
    "Example\n",
    "Input: 1367\n",
    "Output: 7631\n",
    "\n",
    "Q Program to Calculate the Sum of first N Natural Numbers\n",
    "Example\n",
    "Input: N=10\n",
    "Output: Add numbers from 1 to 10 ---> 55 \n",
    "\n",
    "\n",
    "Q Program to Find Factorial of a Number N\n",
    "Example\n",
    "Input: N = 5\n",
    "Output: Factorial = 1 x 2 x 3 x 4 x 5 = 120\n",
    "\n",
    "\n",
    "Q Program to Display first n Fibonacci numbers \n",
    "Example\n",
    "Input: N = 8\n",
    "Output: 0,1,1,2,3,5,8,13\n",
    "\n",
    "Q In an array 1 to 10 numbers are stored, one number is missing how do you find it?\n",
    "Example\n",
    "Input: [1,2,3,4,?,6,7,8,9,10]\n",
    "Output: 5\n",
    "\n",
    "Q Program to Check if a number is a Armstrong Number \n",
    "(A number is a amstrong number if sum of cube of individual nos is equal to original no)\n",
    "Example\n",
    "Input: 153\n",
    "Output: Yes \n",
    "Explaination: (1*1*1 + 5*5*5 + 3*3*3 = 153)\n",
    "\n",
    "Q Program to Check Whether a Character is Vowel or Consonant\n",
    "Example\n",
    "Input: A\n",
    "Output: vowel\n",
    "Input: C\n",
    "Output: Consonant\n",
    "\n",
    "Q Program to check whether a character is uppercase or lowercase alphabet.\n",
    "Example\n",
    "Input: 'a'\n",
    "Output: lowercase"
   ]
  },
  {
   "cell_type": "code",
   "execution_count": 292,
   "metadata": {},
   "outputs": [
    {
     "name": "stdout",
     "output_type": "stream",
     "text": [
      "654321\n",
      "0\n",
      "1\n",
      "1\n",
      "2\n",
      "3\n"
     ]
    },
    {
     "data": {
      "text/plain": [
       "'Upper'"
      ]
     },
     "execution_count": 292,
     "metadata": {},
     "output_type": "execute_result"
    }
   ],
   "source": [
    "def findNegative(lst):\n",
    "    count = 0\n",
    "    for _ in lst:\n",
    "        if _ < 0:\n",
    "            count +=1\n",
    "    return count\n",
    "\n",
    "findNegative([5,-8,-1,-9,6])\n",
    "\n",
    "def findSum(lst):\n",
    "    return sum(lst)\n",
    "\n",
    "def findSum2(lst):\n",
    "    total = 0\n",
    "    for i in lst:\n",
    "        total += i\n",
    "    return total\n",
    "    \n",
    "findSum2([5,8,1,9,6])\n",
    "\n",
    "def findMaxMin(lst):\n",
    "    return max(lst), min(lst)\n",
    "\n",
    "def findMaxMin2(lst):\n",
    "    minn = lst[0]\n",
    "    maxn = lst[0]\n",
    "    for i in lst:\n",
    "        if i < minn:\n",
    "            minn = i\n",
    "        if i > maxn:\n",
    "            maxn = i\n",
    "    return maxn, minn\n",
    "\n",
    "findMaxMin2([5,-2,9,-3,-10,8,15,0,9])\n",
    "\n",
    "\n",
    "def sumEven(n):\n",
    "    total = 0\n",
    "    for i in range(n+1):\n",
    "        if i % 2 == 0:\n",
    "            total += i\n",
    "    \n",
    "    return total\n",
    "\n",
    "sumEven(10)\n",
    "\n",
    "def sumOdd(n):\n",
    "    total = 0\n",
    "    for i in range(n+1):\n",
    "        if i % 2 == 1:\n",
    "            total += i\n",
    "    \n",
    "    return total\n",
    "    \n",
    "sumOdd(3)\n",
    "\n",
    "def calculateSum(n):\n",
    "    string_num = str(n)\n",
    "    total = 0\n",
    "    for i in range(len(string_num)):\n",
    "        total += int(string_num[i])\n",
    "    return total\n",
    "\n",
    "calculateSum(123456789)\n",
    "\n",
    "def calculateProd(n):\n",
    "    string_num = str(n)\n",
    "    total = 1\n",
    "    for i in range(len(string_num)):\n",
    "        total *= int(string_num[i])\n",
    "    return total\n",
    "\n",
    "calculateProd(528)\n",
    "\n",
    "def printReverse(n):\n",
    "    print(''.join((list(reversed(str(n))))))\n",
    "          \n",
    "printReverse(123456)    \n",
    "\n",
    "def sumNatural(n):\n",
    "    total = 0\n",
    "    for i in range(n+1):\n",
    "        if i != 0:\n",
    "            total += i\n",
    "    return total\n",
    "\n",
    "sumNatural(10)\n",
    "\n",
    "def fact(n):\n",
    "    if n == 0 or n == 1:\n",
    "        return 1\n",
    "    else:\n",
    "        return n * fact(n-1)\n",
    "    \n",
    "fact(5)   \n",
    "\n",
    "def fib(n):\n",
    "    i = 0 \n",
    "    f = 0\n",
    "    s = 1\n",
    "    if n == 0:\n",
    "        print(\"Invalid value\")\n",
    "    else:\n",
    "         while i < n:\n",
    "                if i <= 1:\n",
    "                    value = i\n",
    "                else:\n",
    "                    value = f + s\n",
    "                    f = s\n",
    "                    s = value\n",
    "                print(value) \n",
    "                i = i + 1\n",
    "fib(5)\n",
    "\n",
    "def findMissing(lst):\n",
    "    for i in range(len(lst)):\n",
    "        if lst[i] == '?':\n",
    "            return (i + 1) \n",
    "            \n",
    "\n",
    "findMissing([1,2,'?',4, 5 ,6,7,8,9,10])\n",
    "\n",
    "def checkArmstrong(n):\n",
    "    num_str = str(n)\n",
    "    \n",
    "    if len(num_str) == 1:\n",
    "        return n**3 == n\n",
    "    elif len(num_str) == 2:\n",
    "        return int(num_str[0])**3 + int(num_str[1])**3 == n\n",
    "    else:\n",
    "        for i in range(len(num_str)):\n",
    "            value = int(num_str[i])**3 + int(num_str[i + 1])**3 + int(num_str[i + 2])**3\n",
    "            return value == n\n",
    "            \n",
    "checkArmstrong(153)\n",
    "\n",
    "\n",
    "def checkVowel(c):\n",
    "    if c.lower() in ['a', 'e', 'i', 'o', 'u']:\n",
    "        return \"Vowel\"\n",
    "    else:\n",
    "        return \"Consonant\"\n",
    "\n",
    "checkVowel('o')\n",
    "\n",
    "def checkUpper(c):\n",
    "    if c.upper() == c:\n",
    "        return \"Upper\"\n",
    "    else:\n",
    "        return \"Lower\"\n",
    "\n",
    "checkUpper('V')"
   ]
  },
  {
   "cell_type": "code",
   "execution_count": 1,
   "metadata": {},
   "outputs": [
    {
     "data": {
      "text/plain": [
       "40"
      ]
     },
     "execution_count": 1,
     "metadata": {},
     "output_type": "execute_result"
    }
   ],
   "source": [
    "10 << 2"
   ]
  },
  {
   "cell_type": "code",
   "execution_count": 5,
   "metadata": {},
   "outputs": [
    {
     "name": "stdout",
     "output_type": "stream",
     "text": [
      "-1\n"
     ]
    }
   ],
   "source": [
    "10 >> 2\n",
    "print(-True)"
   ]
  },
  {
   "cell_type": "code",
   "execution_count": 6,
   "metadata": {},
   "outputs": [
    {
     "name": "stdout",
     "output_type": "stream",
     "text": [
      "4\n"
     ]
    }
   ],
   "source": [
    "print(4&5)"
   ]
  },
  {
   "cell_type": "code",
   "execution_count": 10,
   "metadata": {},
   "outputs": [
    {
     "data": {
      "text/plain": [
       "50"
      ]
     },
     "execution_count": 10,
     "metadata": {},
     "output_type": "execute_result"
    }
   ],
   "source": [
    "a = 2\n",
    "b = 10\n",
    "x = 35 if a > b else 50\n",
    "x"
   ]
  },
  {
   "cell_type": "code",
   "execution_count": 16,
   "metadata": {},
   "outputs": [
    {
     "data": {
      "text/plain": [
       "False"
      ]
     },
     "execution_count": 16,
     "metadata": {},
     "output_type": "execute_result"
    }
   ],
   "source": [
    "a = 1\n",
    "b = 1\n",
    "a is b\n",
    "a is not b   "
   ]
  },
  {
   "cell_type": "code",
   "execution_count": 26,
   "metadata": {},
   "outputs": [
    {
     "data": {
      "text/plain": [
       "[1, 2, 3, 4]"
      ]
     },
     "execution_count": 26,
     "metadata": {},
     "output_type": "execute_result"
    }
   ],
   "source": [
    "list([1,2,3,4])"
   ]
  },
  {
   "cell_type": "code",
   "execution_count": 29,
   "metadata": {},
   "outputs": [
    {
     "data": {
      "text/plain": [
       "{1, 2, 5}"
      ]
     },
     "execution_count": 29,
     "metadata": {},
     "output_type": "execute_result"
    }
   ],
   "source": [
    "# set\n",
    "a = {1,1,2,2,5,2,5,2}"
   ]
  },
  {
   "cell_type": "code",
   "execution_count": 76,
   "metadata": {},
   "outputs": [
    {
     "data": {
      "text/plain": [
       "10"
      ]
     },
     "execution_count": 76,
     "metadata": {},
     "output_type": "execute_result"
    }
   ],
   "source": [
    "import math as m\n",
    "from math import pi\n",
    "\n",
    "m.pi\n",
    "m.sqrt(4)\n",
    "m.cos(90)\n",
    "pi\n",
    "m.ceil(25.01)\n",
    "m.floor(25.999999999999)\n",
    "m.pow(2,4)\n",
    "m.factorial(5)\n",
    "m.trunc(5.98)\n",
    "m.gcd(50,90)"
   ]
  },
  {
   "cell_type": "code",
   "execution_count": 93,
   "metadata": {},
   "outputs": [
    {
     "data": {
      "text/plain": [
       "0.9999999999999999"
      ]
     },
     "execution_count": 93,
     "metadata": {},
     "output_type": "execute_result"
    }
   ],
   "source": [
    "# program to find the area of the circle\n",
    "\n",
    "def area_circle(r):\n",
    "    return pi * r ** 2\n",
    "    \n",
    "area_circle(m.sqrt(1/pi))"
   ]
  },
  {
   "cell_type": "code",
   "execution_count": 82,
   "metadata": {},
   "outputs": [
    {
     "data": {
      "text/plain": [
       "nan"
      ]
     },
     "execution_count": 82,
     "metadata": {},
     "output_type": "execute_result"
    }
   ],
   "source": [
    "a = m.inf\n",
    "b = -m.inf\n",
    "a + b"
   ]
  },
  {
   "cell_type": "markdown",
   "metadata": {},
   "source": [
    "# Strings are immutable\n",
    "# Tuples are immutable\n",
    "# Lists are mutable"
   ]
  },
  {
   "cell_type": "code",
   "execution_count": 87,
   "metadata": {},
   "outputs": [
    {
     "data": {
      "text/plain": [
       "True"
      ]
     },
     "execution_count": 87,
     "metadata": {},
     "output_type": "execute_result"
    }
   ],
   "source": [
    "[\"names\",\"bro\"] is not [\"names\",\"pro\"]"
   ]
  },
  {
   "cell_type": "code",
   "execution_count": 100,
   "metadata": {},
   "outputs": [],
   "source": [
    "a = \"this is a 'single' quote\""
   ]
  },
  {
   "cell_type": "code",
   "execution_count": 111,
   "metadata": {},
   "outputs": [
    {
     "data": {
      "text/plain": [
       "\"etouq 'elgnis' a si siht\""
      ]
     },
     "execution_count": 111,
     "metadata": {},
     "output_type": "execute_result"
    }
   ],
   "source": [
    "# slicing in python\n",
    "\n",
    "#a[beginIndex, endIndex, steps]\n",
    "\n",
    "a[0:len(a)-7]\n",
    "a[-2]\n",
    "a[::-1]"
   ]
  },
  {
   "cell_type": "code",
   "execution_count": 113,
   "metadata": {},
   "outputs": [
    {
     "data": {
      "text/plain": [
       "'652'"
      ]
     },
     "execution_count": 113,
     "metadata": {},
     "output_type": "execute_result"
    }
   ],
   "source": [
    "def printReverse(n):\n",
    "    a = str(n)\n",
    "    return a[::-1]\n",
    "printReverse(256)"
   ]
  },
  {
   "cell_type": "code",
   "execution_count": 114,
   "metadata": {},
   "outputs": [
    {
     "data": {
      "text/plain": [
       "'t aieu'"
      ]
     },
     "execution_count": 114,
     "metadata": {},
     "output_type": "execute_result"
    }
   ],
   "source": [
    "a[0:len(a):4]"
   ]
  },
  {
   "cell_type": "code",
   "execution_count": 121,
   "metadata": {},
   "outputs": [
    {
     "data": {
      "text/plain": [
       "\"ti'lu\""
      ]
     },
     "execution_count": 121,
     "metadata": {},
     "output_type": "execute_result"
    }
   ],
   "source": [
    "a[:len(a):5]"
   ]
  },
  {
   "cell_type": "code",
   "execution_count": 14,
   "metadata": {},
   "outputs": [
    {
     "data": {
      "text/plain": [
       "'kcus uoy orb'"
      ]
     },
     "execution_count": 14,
     "metadata": {},
     "output_type": "execute_result"
    }
   ],
   "source": [
    "a = [1,2,3,4,5,6,7,8,9,10]\n",
    "a = \"bro you suck\"\n",
    "a[::-1]"
   ]
  },
  {
   "cell_type": "code",
   "execution_count": 21,
   "metadata": {},
   "outputs": [
    {
     "name": "stdout",
     "output_type": "stream",
     "text": [
      "l\n",
      "l\n",
      "e\n",
      "h\n",
      " \n",
      "e\n",
      "h\n",
      "t\n",
      " \n",
      "t\n",
      "a\n",
      "h\n",
      "w\n",
      " \n",
      "o\n",
      "r\n",
      "b\n"
     ]
    }
   ],
   "source": [
    "# print string in reverse using while loop.\n",
    "\n",
    "a = \"bro what the hell\"\n",
    "l = len(a)\n",
    "i = 0\n",
    "while i < l:\n",
    "    print(a[l-1])\n",
    "    l -= 1"
   ]
  },
  {
   "cell_type": "code",
   "execution_count": 55,
   "metadata": {},
   "outputs": [
    {
     "name": "stdout",
     "output_type": "stream",
     "text": [
      "1607662263792\n"
     ]
    },
    {
     "data": {
      "text/plain": [
       "'what the hell is going hell hell on'"
      ]
     },
     "execution_count": 55,
     "metadata": {},
     "output_type": "execute_result"
    }
   ],
   "source": [
    "# replace using the replace function of the string\n",
    "# strings are immutable, the replace function will only create a new object\n",
    "\n",
    "a = \"what the hell is going hell hell on\"\n",
    "print(id(a))\n",
    "b = \"what the hell is going on\"\n",
    "'p' in a\n",
    "s = a.replace('hell', 'bro')\n",
    "a\n",
    "print(id(s))"
   ]
  },
  {
   "cell_type": "code",
   "execution_count": 59,
   "metadata": {},
   "outputs": [
    {
     "data": {
      "text/plain": [
       "['bro', 'what', 'the', 'hell']"
      ]
     },
     "execution_count": 59,
     "metadata": {},
     "output_type": "execute_result"
    }
   ],
   "source": [
    "a = \"bro what the hell\"\n",
    "a.split()"
   ]
  },
  {
   "cell_type": "code",
   "execution_count": 64,
   "metadata": {},
   "outputs": [
    {
     "data": {
      "text/plain": [
       "'b#r#o# #w#h#a#t# #t#h#e# #h#e#l#l'"
      ]
     },
     "execution_count": 64,
     "metadata": {},
     "output_type": "execute_result"
    }
   ],
   "source": [
    "'#'.join(a)"
   ]
  },
  {
   "cell_type": "code",
   "execution_count": 66,
   "metadata": {},
   "outputs": [
    {
     "data": {
      "text/plain": [
       "'Bro What The Hell'"
      ]
     },
     "execution_count": 66,
     "metadata": {},
     "output_type": "execute_result"
    }
   ],
   "source": [
    "a.title()"
   ]
  },
  {
   "cell_type": "code",
   "execution_count": 70,
   "metadata": {},
   "outputs": [
    {
     "data": {
      "text/plain": [
       "False"
      ]
     },
     "execution_count": 70,
     "metadata": {},
     "output_type": "execute_result"
    }
   ],
   "source": [
    "a.startswith('bro') # true\n",
    "a.endswith('bro') # False"
   ]
  },
  {
   "cell_type": "code",
   "execution_count": 80,
   "metadata": {},
   "outputs": [
    {
     "data": {
      "text/plain": [
       "False"
      ]
     },
     "execution_count": 80,
     "metadata": {},
     "output_type": "execute_result"
    }
   ],
   "source": [
    "a.isalnum() "
   ]
  },
  {
   "cell_type": "code",
   "execution_count": 36,
   "metadata": {},
   "outputs": [
    {
     "data": {
      "text/plain": [
       "9"
      ]
     },
     "execution_count": 36,
     "metadata": {},
     "output_type": "execute_result"
    }
   ],
   "source": [
    "# find inside the string using the find function of the string\n",
    "\n",
    "a.find(\"hell\")"
   ]
  },
  {
   "cell_type": "code",
   "execution_count": 49,
   "metadata": {},
   "outputs": [
    {
     "data": {
      "text/plain": [
       "1"
      ]
     },
     "execution_count": 49,
     "metadata": {},
     "output_type": "execute_result"
    }
   ],
   "source": [
    "# fibonacci using recursive function\n",
    "\n",
    "def fib(n):\n",
    "    if n == 0:\n",
    "        return 'invalid'\n",
    "    elif n == 1:\n",
    "        return 0\n",
    "    elif n == 2:\n",
    "        return 1\n",
    "    else:\n",
    "        return fib(n-1) + fib(n-2)\n",
    "fib(3)"
   ]
  },
  {
   "cell_type": "code",
   "execution_count": 81,
   "metadata": {},
   "outputs": [
    {
     "name": "stdout",
     "output_type": "stream",
     "text": [
      "hello bro man what the hell is going on hell\n"
     ]
    }
   ],
   "source": [
    "print(\"hello {} man what the hell is going on {}\".format(\"bro\", \"hell\"))"
   ]
  },
  {
   "cell_type": "code",
   "execution_count": 4,
   "metadata": {},
   "outputs": [
    {
     "name": "stdout",
     "output_type": "stream",
     "text": [
      "what the man oh man:sadsadahsd\n"
     ]
    },
    {
     "data": {
      "text/plain": [
       "1"
      ]
     },
     "execution_count": 4,
     "metadata": {},
     "output_type": "execute_result"
    }
   ],
   "source": [
    "s = input(\"what the man oh man:\")\n",
    "s.count('h')"
   ]
  },
  {
   "cell_type": "code",
   "execution_count": 61,
   "metadata": {},
   "outputs": [
    {
     "data": {
      "text/plain": [
       "'n b s j d b j s d b a s k n d '"
      ]
     },
     "execution_count": 61,
     "metadata": {},
     "output_type": "execute_result"
    }
   ],
   "source": [
    "s = 'n bsjdbjsdbaskndk'\n",
    "a = list(s)\n",
    "a.pop(1)\n",
    "a\n",
    "' '.join(a)[::]"
   ]
  },
  {
   "cell_type": "code",
   "execution_count": 66,
   "metadata": {},
   "outputs": [
    {
     "data": {
      "text/plain": [
       "{1, 2, 3, 5, 6, 7, 45, 461}"
      ]
     },
     "execution_count": 66,
     "metadata": {},
     "output_type": "execute_result"
    }
   ],
   "source": [
    "# set\n",
    "{1,2,3,45,6,7,5,1,2,3,5,461,3}"
   ]
  },
  {
   "cell_type": "code",
   "execution_count": 12,
   "metadata": {},
   "outputs": [
    {
     "data": {
      "text/plain": [
       "4"
      ]
     },
     "execution_count": 12,
     "metadata": {},
     "output_type": "execute_result"
    }
   ],
   "source": [
    "x = 2\n",
    "eval('x + 2')"
   ]
  },
  {
   "cell_type": "code",
   "execution_count": 20,
   "metadata": {},
   "outputs": [
    {
     "data": {
      "text/plain": [
       "[(0, 1), (1, 2), (2, 3), (3, 2)]"
      ]
     },
     "execution_count": 20,
     "metadata": {},
     "output_type": "execute_result"
    }
   ],
   "source": [
    "lst = list(\"hello brother\")\n",
    "[i for i,x in enumerate([1,2,3,2]) if x==1]\n",
    "l = list(enumerate([1,2,3,2]))\n",
    "l"
   ]
  },
  {
   "cell_type": "code",
   "execution_count": 53,
   "metadata": {},
   "outputs": [
    {
     "data": {
      "text/plain": [
       "2"
      ]
     },
     "execution_count": 53,
     "metadata": {},
     "output_type": "execute_result"
    }
   ],
   "source": [
    "lst.count('h')"
   ]
  },
  {
   "cell_type": "code",
   "execution_count": 56,
   "metadata": {},
   "outputs": [
    {
     "data": {
      "text/plain": [
       "6"
      ]
     },
     "execution_count": 56,
     "metadata": {},
     "output_type": "execute_result"
    }
   ],
   "source": [
    "lst.index('b')"
   ]
  },
  {
   "cell_type": "code",
   "execution_count": 59,
   "metadata": {},
   "outputs": [
    {
     "data": {
      "text/plain": [
       "['h', 'e', 'l', 'l', 'o', ' ', 'b', 'r', 'o', 't', 'h', 'e', 'r', 'a', 'a']"
      ]
     },
     "execution_count": 59,
     "metadata": {},
     "output_type": "execute_result"
    }
   ],
   "source": [
    "lst.append('a')\n",
    "lst"
   ]
  },
  {
   "cell_type": "code",
   "execution_count": 100,
   "metadata": {},
   "outputs": [
    {
     "data": {
      "text/plain": [
       "[0, 10, 20, 30, 40, 50, 60, 70, 80, 90, 100]"
      ]
     },
     "execution_count": 100,
     "metadata": {},
     "output_type": "execute_result"
    }
   ],
   "source": [
    "lst = [40, 10, 20]\n",
    "[i for i in range(101) if i % 10 == 0]"
   ]
  },
  {
   "cell_type": "code",
   "execution_count": 101,
   "metadata": {},
   "outputs": [
    {
     "data": {
      "text/plain": [
       "[40, 10, 20, 1, 2, 5, 4, 6]"
      ]
     },
     "execution_count": 101,
     "metadata": {},
     "output_type": "execute_result"
    }
   ],
   "source": [
    "lst.extend([1,2,5,4,6])\n",
    "lst"
   ]
  },
  {
   "cell_type": "code",
   "execution_count": 102,
   "metadata": {},
   "outputs": [
    {
     "data": {
      "text/plain": [
       "[40, 20, 1, 2, 5, 4, 6]"
      ]
     },
     "execution_count": 102,
     "metadata": {},
     "output_type": "execute_result"
    }
   ],
   "source": [
    "lst.remove(10)\n",
    "lst"
   ]
  },
  {
   "cell_type": "code",
   "execution_count": 105,
   "metadata": {},
   "outputs": [],
   "source": [
    "d = {1: \"Hello\", 2: \"bull\", 3:\"shit\"}"
   ]
  },
  {
   "cell_type": "code",
   "execution_count": 111,
   "metadata": {},
   "outputs": [
    {
     "name": "stdout",
     "output_type": "stream",
     "text": [
      "Hello\n",
      "bull\n",
      "shit\n"
     ]
    }
   ],
   "source": [
    "for i in d:\n",
    "    print(d[i])"
   ]
  },
  {
   "cell_type": "code",
   "execution_count": 125,
   "metadata": {},
   "outputs": [
    {
     "name": "stdout",
     "output_type": "stream",
     "text": [
      "1 Hello\n",
      "2 bull\n",
      "3 shit\n"
     ]
    }
   ],
   "source": [
    "for i,j in d.items():\n",
    "    print(i,j)"
   ]
  },
  {
   "cell_type": "code",
   "execution_count": 137,
   "metadata": {},
   "outputs": [
    {
     "name": "stdout",
     "output_type": "stream",
     "text": [
      "1810204987336\n"
     ]
    },
    {
     "data": {
      "text/plain": [
       "True"
      ]
     },
     "execution_count": 137,
     "metadata": {},
     "output_type": "execute_result"
    }
   ],
   "source": [
    "# = will not create a different object and you will still be working with the original object\n",
    "\n",
    "l = [1,2,3,45]\n",
    "s = l\n",
    "print(id(l))\n",
    "id(s)\n",
    "l is s"
   ]
  },
  {
   "cell_type": "code",
   "execution_count": 139,
   "metadata": {},
   "outputs": [
    {
     "data": {
      "text/plain": [
       "False"
      ]
     },
     "execution_count": 139,
     "metadata": {},
     "output_type": "execute_result"
    }
   ],
   "source": [
    "# .copy function will actually create a new object\n",
    "s = l.copy()\n",
    "id(s)\n",
    "l is s"
   ]
  },
  {
   "cell_type": "code",
   "execution_count": 146,
   "metadata": {},
   "outputs": [
    {
     "data": {
      "text/plain": [
       "[4, 16, 36, 64]"
      ]
     },
     "execution_count": 146,
     "metadata": {},
     "output_type": "execute_result"
    }
   ],
   "source": [
    "l = [1,2,3,4,5,6,7,8,9]\n",
    "\n",
    "s = [i ** 2  for i in l if i % 2 == 0]\n",
    "s"
   ]
  },
  {
   "cell_type": "code",
   "execution_count": null,
   "metadata": {},
   "outputs": [],
   "source": [
    "d = {1: \"Hello\", 2: \"bull\", 3:\"shit\"}"
   ]
  },
  {
   "cell_type": "code",
   "execution_count": 163,
   "metadata": {},
   "outputs": [
    {
     "name": "stdout",
     "output_type": "stream",
     "text": [
      "['a', 'b', 'c', 'd', 'e', 'f', 'g', 'h', 'i', 'j', 'k', 'l', 'm', 'n', 'o', 'p', 'q', 'r', 's', 't', 'u', 'v', 'w', 'x', 'y', 'z']\n"
     ]
    }
   ],
   "source": [
    "s = \"the quick brown fox jumps over the lazy dogs\"\n",
    "a = set([i for i in sorted(s.replace(' ', '') )])\n",
    "len(a)\n",
    "print(sorted(a))"
   ]
  },
  {
   "cell_type": "code",
   "execution_count": null,
   "metadata": {},
   "outputs": [],
   "source": []
  },
  {
   "cell_type": "code",
   "execution_count": null,
   "metadata": {},
   "outputs": [],
   "source": [
    "Q Reverse words of a string\n",
    "Example\n",
    "Input: \"Python Means Programming\"\n",
    "Output: \"Programming Means Python\"  \n",
    "Explaination:\n",
    "#reverse the string\n",
    "\n",
    "Q Check if two strings are anagrams or not?\n",
    "Example\n",
    "Input: \"aaba\" & \"aaab\"\n",
    "Output: Yes\n",
    "\n",
    "Input: \"abcd\" & \"deba\"\n",
    "Output: No\n",
    "\n",
    "Q check if a string is palindrome\n",
    "Example\n",
    "Input: hello-> olleh\n",
    "Output:  Not a palindrome\n",
    "\n",
    "Input: madam-> madam\n",
    "Output:  palindrome\n",
    "\n",
    "Explaination: Yes, if reversed string is same as original string\n",
    "Note: Try to use your own logic to find palindrome\n",
    "    \n",
    "Q Input a string and find out duplicates alphabets\n",
    "\n",
    "Example\n",
    "Input: python at zenrays\n",
    "Output:  a,n\n",
    "Explaination: a & n both are repeating in the string\n",
    "    \n",
    "Q Count occurrences of a specific character in a String\n",
    "\n",
    "\n",
    "Q Count occurrence of specific word in a String \n",
    "\n",
    "\n",
    "Q Find out no of alphabets, lowercase, uppercase, vowels, consonants,\n",
    " digits, spaces in a string\n",
    "\n",
    "    \n",
    "Q Check if a string is a double string\n",
    "Example\n",
    "Input: \"1221\"\n",
    "Output: No\n",
    "\n",
    "Input: \"abab\"\n",
    "Output: Yes\n",
    "\n",
    "Input: \"aaaaa\"\n",
    "Output: No\n",
    "\n",
    "Input: \"bbaabb\"\n",
    "Output: No\n",
    "\n",
    "Explaination: \n",
    "We call a string a \"double string\" if it has an even length and \n",
    "the first half of this string is equal to the second half of this string\n",
    "\n",
    "\n",
    "Q program to merge two charcters into single \n",
    " S1 = \"ravi\"\n",
    "S2 = \"teja\"\n",
    "Output :- S = raviteja\n",
    "    \n",
    "Q write a program to remove duplicate characters from the string from the input string\n",
    "\n",
    "input:- ABCDABBCCDDAAA\n",
    "output :- ABCD\n",
    "\n",
    "    \n",
    "Q ;- write a program to find the occurrences from each charcters present in the given string ?\n",
    "Inout :- ABCABCABBB\n",
    "output \"- A -3 ,B-5,C -2"
   ]
  },
  {
   "cell_type": "code",
   "execution_count": 4,
   "metadata": {},
   "outputs": [
    {
     "name": "stdout",
     "output_type": "stream",
     "text": [
      "man hello\n"
     ]
    }
   ],
   "source": [
    "def reverseString(string):\n",
    "    s= string\n",
    "    a=s.split() #slpit string \n",
    "    a.reverse()#reverse the string\n",
    "    result=\" \".join(a) #join the string \n",
    "    print(result) #print\n",
    "    \n",
    "reverseString(\"hello man\")"
   ]
  },
  {
   "cell_type": "code",
   "execution_count": 21,
   "metadata": {},
   "outputs": [
    {
     "data": {
      "text/plain": [
       "False"
      ]
     },
     "execution_count": 21,
     "metadata": {},
     "output_type": "execute_result"
    }
   ],
   "source": [
    "def checkAnagram(a, b):\n",
    "    return sorted(list(a)) == sorted(list(b))\n",
    "\n",
    "checkAnagram(\"aaba\", \"aaab\")\n",
    "checkAnagram(\"abcd\", \"abdf\")"
   ]
  },
  {
   "cell_type": "code",
   "execution_count": 35,
   "metadata": {},
   "outputs": [
    {
     "data": {
      "text/plain": [
       "False"
      ]
     },
     "execution_count": 35,
     "metadata": {},
     "output_type": "execute_result"
    }
   ],
   "source": [
    "def checkPalindrome(s):\n",
    "    return s == s[::-1]\n",
    "\n",
    "checkPalindrome(\"madam\")\n",
    "checkPalindrome(\"hello\")"
   ]
  },
  {
   "cell_type": "code",
   "execution_count": 42,
   "metadata": {},
   "outputs": [
    {
     "data": {
      "text/plain": [
       "{' ', 'a', 'n', 't', 'y'}"
      ]
     },
     "execution_count": 42,
     "metadata": {},
     "output_type": "execute_result"
    }
   ],
   "source": [
    "def findDuplicates(string):\n",
    "    s = [x for x in string if string.count(x) > 1]\n",
    "    return set(s)\n",
    "    \n",
    "findDuplicates(\"python at zenrays\")   "
   ]
  },
  {
   "cell_type": "code",
   "execution_count": 50,
   "metadata": {},
   "outputs": [
    {
     "data": {
      "text/plain": [
       "2"
      ]
     },
     "execution_count": 50,
     "metadata": {},
     "output_type": "execute_result"
    }
   ],
   "source": [
    "def findOccChar(string , x):\n",
    "    return string.count(x)\n",
    "findOccChar(\"python at zenrays\", \"y\")"
   ]
  },
  {
   "cell_type": "code",
   "execution_count": 49,
   "metadata": {},
   "outputs": [
    {
     "data": {
      "text/plain": [
       "1"
      ]
     },
     "execution_count": 49,
     "metadata": {},
     "output_type": "execute_result"
    }
   ],
   "source": [
    "def findOccWords(string , x):\n",
    "    return string.count(x)\n",
    "findOccWords(\"python at zenrays\", \"python\")"
   ]
  },
  {
   "cell_type": "code",
   "execution_count": 71,
   "metadata": {},
   "outputs": [
    {
     "name": "stdout",
     "output_type": "stream",
     "text": [
      "Alphabets = 10\n",
      "Lowercase = 9\n",
      "Uppercase = 1\n",
      "Vowels = 4\n",
      "Consonants = 6\n",
      "Digits = 2\n",
      "Spaces = 2\n"
     ]
    }
   ],
   "source": [
    "def findAll(string):\n",
    "    acount = 0\n",
    "    lcount = 0\n",
    "    ucount = 0\n",
    "    vcount = 0\n",
    "    dcount = 0\n",
    "    scount = 0\n",
    "    ccount = 0\n",
    "    vowels = 'aeiou'\n",
    "    return sum([acount + 1 for x in string if x.isalpha()]), sum([lcount + 1 for x in string if x.islower()]), sum([ucount + 1 for x in string if x.isupper()]), sum([vcount + 1 for x in string if x in vowels]), sum([ccount + 1 for x in string if x not in vowels and x.isalpha()]), sum([dcount + 1 for x in string if x.isdigit()]), sum([scount + 1 for x in string if x == \" \"])\n",
    "\n",
    "result = findAll(\"Hello 12 hello\")  \n",
    "\n",
    "print(\"Alphabets = {}\".format(result[0]))\n",
    "print(\"Lowercase = {}\".format(result[1]))\n",
    "print(\"Uppercase = {}\".format(result[2]))\n",
    "print(\"Vowels = {}\".format(result[3]))\n",
    "print(\"Consonants = {}\".format(result[4]))\n",
    "print(\"Digits = {}\".format(result[5]))\n",
    "print(\"Spaces = {}\".format(result[6]))"
   ]
  },
  {
   "cell_type": "code",
   "execution_count": 7,
   "metadata": {},
   "outputs": [
    {
     "name": "stdout",
     "output_type": "stream",
     "text": [
      "Alphabets = 10\n",
      "Lowercase = 9\n",
      "Uppercase = 1\n",
      "Vowels = 4\n",
      "Consonants = 6\n",
      "Digits = 2\n",
      "Spaces = 2\n"
     ]
    }
   ],
   "source": [
    "def findAll(string):\n",
    "    acount = 0\n",
    "    lcount = 0\n",
    "    ucount = 0\n",
    "    vcount = 0\n",
    "    dcount = 0\n",
    "    scount = 0\n",
    "    ccount = 0\n",
    "    vowels = 'aeiou'\n",
    "    for x in string:\n",
    "        if x.isalpha():\n",
    "            acount = acount + 1\n",
    "        if x.islower():\n",
    "            lcount = lcount + 1\n",
    "        if x.isupper():\n",
    "            ucount = ucount + 1\n",
    "        if x in vowels:\n",
    "            vcount = vcount + 1\n",
    "        if x not in vowels and x.isalpha():\n",
    "            ccount = ccount + 1\n",
    "        if x.isdigit():\n",
    "            dcount = dcount + 1\n",
    "        if x == \" \":\n",
    "            scount = scount + 1\n",
    "    print(\"Alphabets = {}\".format(acount))\n",
    "    print(\"Lowercase = {}\".format(lcount))\n",
    "    print(\"Uppercase = {}\".format(ucount))\n",
    "    print(\"Vowels = {}\".format(vcount))\n",
    "    print(\"Consonants = {}\".format(ccount))\n",
    "    print(\"Digits = {}\".format(dcount))\n",
    "    print(\"Spaces = {}\".format(scount))\n",
    "\n",
    "result = findAll(\"Hello 12 hello\")  \n",
    "\n"
   ]
  },
  {
   "cell_type": "code",
   "execution_count": 83,
   "metadata": {},
   "outputs": [
    {
     "data": {
      "text/plain": [
       "True"
      ]
     },
     "execution_count": 83,
     "metadata": {},
     "output_type": "execute_result"
    }
   ],
   "source": [
    "def checkDouble(s):\n",
    "    return len(s) % 2 == 0 and s[:len(s)//2] == s[len(s)//2:]\n",
    "\n",
    "checkDouble(\"1212\")  \n",
    "checkDouble(\"abababababababababab\")    "
   ]
  },
  {
   "cell_type": "code",
   "execution_count": 84,
   "metadata": {},
   "outputs": [
    {
     "data": {
      "text/plain": [
       "'tejaravi'"
      ]
     },
     "execution_count": 84,
     "metadata": {},
     "output_type": "execute_result"
    }
   ],
   "source": [
    "def mergeString(a, b):\n",
    "    return a + b\n",
    "\n",
    "mergeString('teja', 'ravi')"
   ]
  },
  {
   "cell_type": "code",
   "execution_count": 89,
   "metadata": {},
   "outputs": [
    {
     "data": {
      "text/plain": [
       "'ABCDKLO'"
      ]
     },
     "execution_count": 89,
     "metadata": {},
     "output_type": "execute_result"
    }
   ],
   "source": [
    "def removeDuplicates(s):\n",
    "    return ''.join(sorted(set(s)))\n",
    "\n",
    "removeDuplicates('ABCDABBCCDDAAAALALAKALAKALAOAKAL')"
   ]
  },
  {
   "cell_type": "code",
   "execution_count": 2,
   "metadata": {},
   "outputs": [
    {
     "name": "stdout",
     "output_type": "stream",
     "text": [
      "A = 3\n",
      "B = 5\n",
      "C = 2\n",
      "A = 3\n",
      "B = 5\n",
      "C = 2\n",
      "A = 3\n",
      "B = 5\n",
      "B = 5\n",
      "B = 5\n"
     ]
    }
   ],
   "source": [
    "def findOccurance(s):\n",
    "    for x in s:\n",
    "        print(x + \" = {}\".format(s.count(x)))\n",
    "findOccurance('ABCABCABBB')"
   ]
  },
  {
   "cell_type": "markdown",
   "metadata": {},
   "source": [
    "# Dictionary"
   ]
  },
  {
   "cell_type": "code",
   "execution_count": 89,
   "metadata": {},
   "outputs": [
    {
     "data": {
      "text/plain": [
       "{1: 'hello', 2: 'bro', 3: 'manohman'}"
      ]
     },
     "execution_count": 89,
     "metadata": {},
     "output_type": "execute_result"
    }
   ],
   "source": [
    "d = {1: [\"hello\", 1,2,3], 2: \"bro\", 3: \"manohman\"}\n",
    "d[1] = \"hello\"\n",
    "d"
   ]
  },
  {
   "cell_type": "code",
   "execution_count": 90,
   "metadata": {},
   "outputs": [
    {
     "data": {
      "text/plain": [
       "[1, 2, 3, 4, 5, 7, 8]"
      ]
     },
     "execution_count": 90,
     "metadata": {},
     "output_type": "execute_result"
    }
   ],
   "source": [
    "lst = [1,2,3,4,5,8,7]\n",
    "sorted(lst)\n",
    "lst.sort()\n",
    "lst"
   ]
  },
  {
   "cell_type": "code",
   "execution_count": 91,
   "metadata": {},
   "outputs": [
    {
     "name": "stdout",
     "output_type": "stream",
     "text": [
      "hello\n",
      "bro\n",
      "manohman\n"
     ]
    }
   ],
   "source": [
    "for key in d:\n",
    "    print(d[key])"
   ]
  },
  {
   "cell_type": "code",
   "execution_count": 92,
   "metadata": {},
   "outputs": [],
   "source": [
    "d['key'] = 'bro'"
   ]
  },
  {
   "cell_type": "code",
   "execution_count": 93,
   "metadata": {},
   "outputs": [],
   "source": [
    "del d['key']"
   ]
  },
  {
   "cell_type": "code",
   "execution_count": 94,
   "metadata": {},
   "outputs": [
    {
     "data": {
      "text/plain": [
       "{1: 'hello', 2: 'bro', 3: 'manohman'}"
      ]
     },
     "execution_count": 94,
     "metadata": {},
     "output_type": "execute_result"
    }
   ],
   "source": [
    "d"
   ]
  },
  {
   "cell_type": "code",
   "execution_count": 95,
   "metadata": {},
   "outputs": [],
   "source": [
    "d[6] = 'mahman'"
   ]
  },
  {
   "cell_type": "code",
   "execution_count": 96,
   "metadata": {},
   "outputs": [
    {
     "data": {
      "text/plain": [
       "{1: 'hello', 2: 'bro', 3: 'manohman', 6: 'mahman'}"
      ]
     },
     "execution_count": 96,
     "metadata": {},
     "output_type": "execute_result"
    }
   ],
   "source": [
    "d"
   ]
  },
  {
   "cell_type": "code",
   "execution_count": 107,
   "metadata": {},
   "outputs": [
    {
     "data": {
      "text/plain": [
       "[('hello', 1), ('bro', 2), ('manohman', 3), ('mahman', 6)]"
      ]
     },
     "execution_count": 107,
     "metadata": {},
     "output_type": "execute_result"
    }
   ],
   "source": [
    "s = d.items()\n",
    "a = [(k,v) for (v,k) in d.items()]\n",
    "a[0:]"
   ]
  },
  {
   "cell_type": "code",
   "execution_count": 120,
   "metadata": {},
   "outputs": [
    {
     "name": "stdout",
     "output_type": "stream",
     "text": [
      "1\n",
      "2\n",
      "3\n",
      "6\n"
     ]
    }
   ],
   "source": [
    "a = d.keys()\n",
    "for x in d.keys():\n",
    "    print(x)"
   ]
  },
  {
   "cell_type": "code",
   "execution_count": 119,
   "metadata": {},
   "outputs": [
    {
     "data": {
      "text/plain": [
       "[(1, 'hello'), (2, 'bro'), (3, 'manohman'), (6, 'mahman')]"
      ]
     },
     "execution_count": 119,
     "metadata": {},
     "output_type": "execute_result"
    }
   ],
   "source": [
    "# get key and value as list of tuples \n",
    "\n",
    "[(i,j) for i,j in d.items()]"
   ]
  },
  {
   "cell_type": "code",
   "execution_count": 123,
   "metadata": {},
   "outputs": [
    {
     "data": {
      "text/plain": [
       "2108934150256"
      ]
     },
     "execution_count": 123,
     "metadata": {},
     "output_type": "execute_result"
    }
   ],
   "source": [
    "d1 = d.copy()\n",
    "id(d1)"
   ]
  },
  {
   "cell_type": "code",
   "execution_count": 122,
   "metadata": {},
   "outputs": [
    {
     "data": {
      "text/plain": [
       "2108934110736"
      ]
     },
     "execution_count": 122,
     "metadata": {},
     "output_type": "execute_result"
    }
   ],
   "source": [
    "id(d)"
   ]
  },
  {
   "cell_type": "markdown",
   "metadata": {},
   "source": [
    "# d.values() for gettin the values of the dictionary\n",
    "\n",
    "# d.items() to get the iterator for the list of tuples of key and value\n",
    "\n",
    "# d.keys() to get all the keys in the dictionary\n",
    "\n",
    "# d.get(key) to get the value at a given key\n",
    "\n",
    "# d.clear() to empty the dictionary\n",
    "\n"
   ]
  },
  {
   "cell_type": "code",
   "execution_count": 124,
   "metadata": {},
   "outputs": [
    {
     "data": {
      "text/plain": [
       "dict_items([(1, 'hello'), (2, 'bro'), (3, 'manohman'), (6, 'mahman')])"
      ]
     },
     "execution_count": 124,
     "metadata": {},
     "output_type": "execute_result"
    }
   ],
   "source": [
    "d.items()"
   ]
  },
  {
   "cell_type": "code",
   "execution_count": 154,
   "metadata": {},
   "outputs": [
    {
     "name": "stdout",
     "output_type": "stream",
     "text": [
      "{'h': 1, 'e': 1, 'l': 2, 'o': 6, ' ': 2, 'b': 1, 'r': 1, 'p': 7}\n",
      "h 1\n",
      "e 1\n",
      "l 2\n",
      "o 6\n",
      "  2\n",
      "b 1\n",
      "r 1\n",
      "p 7\n"
     ]
    }
   ],
   "source": [
    "# program to count the frequency of alphabets in the word using dictionary\n",
    "\n",
    "s = \"hello bro ooooppppppp\"\n",
    "d = {}\n",
    "for x in s:\n",
    "    d[x] = d.get(x,0) + 1\n",
    "print(d)    \n",
    "for i,j in d.items():\n",
    "    print(i,j)   "
   ]
  },
  {
   "cell_type": "code",
   "execution_count": 148,
   "metadata": {},
   "outputs": [
    {
     "name": "stdout",
     "output_type": "stream",
     "text": [
      "b 1\n",
      "a 3\n",
      "n 2\n"
     ]
    }
   ],
   "source": [
    "from collections import Counter\n",
    "for i,j in Counter('banana').items():\n",
    "    print(i,j)"
   ]
  },
  {
   "cell_type": "markdown",
   "metadata": {},
   "source": [
    "# Use dir(set) or dir(anything) to get the list of required functions in python"
   ]
  },
  {
   "cell_type": "code",
   "execution_count": 160,
   "metadata": {},
   "outputs": [
    {
     "data": {
      "text/plain": [
       "['__add__',\n",
       " '__class__',\n",
       " '__contains__',\n",
       " '__delattr__',\n",
       " '__dir__',\n",
       " '__doc__',\n",
       " '__eq__',\n",
       " '__format__',\n",
       " '__ge__',\n",
       " '__getattribute__',\n",
       " '__getitem__',\n",
       " '__getnewargs__',\n",
       " '__gt__',\n",
       " '__hash__',\n",
       " '__init__',\n",
       " '__init_subclass__',\n",
       " '__iter__',\n",
       " '__le__',\n",
       " '__len__',\n",
       " '__lt__',\n",
       " '__mul__',\n",
       " '__ne__',\n",
       " '__new__',\n",
       " '__reduce__',\n",
       " '__reduce_ex__',\n",
       " '__repr__',\n",
       " '__rmul__',\n",
       " '__setattr__',\n",
       " '__sizeof__',\n",
       " '__str__',\n",
       " '__subclasshook__',\n",
       " 'count',\n",
       " 'index']"
      ]
     },
     "execution_count": 160,
     "metadata": {},
     "output_type": "execute_result"
    }
   ],
   "source": [
    "dir(tuple)"
   ]
  },
  {
   "cell_type": "code",
   "execution_count": 165,
   "metadata": {},
   "outputs": [
    {
     "data": {
      "text/plain": [
       "1"
      ]
     },
     "execution_count": 165,
     "metadata": {},
     "output_type": "execute_result"
    }
   ],
   "source": [
    "a = (1,2,3,4,5,6,1)\n",
    "a.index(2)"
   ]
  },
  {
   "cell_type": "code",
   "execution_count": null,
   "metadata": {},
   "outputs": [],
   "source": [
    "1. Write a Python script to sort (ascending and descending) a dictionary by value.?\n",
    "2.Write a Python script to add a key to a dictionary.\n",
    "\n",
    "Sample Dictionary : {0: 10, 1: 20}\n",
    "Expected Result : {0: 10, 1: 20, 2: 30}\n",
    "\n",
    "\n",
    "3. Write a Python script to concatenate following dictionaries to create a new one. \n",
    "\n",
    "Sample Dictionary : \n",
    "dic1={1:10, 2:20} \n",
    "dic2={3:30, 4:40} \n",
    "dic3={5:50,6:60}\n",
    "Expected Result : {1: 10, 2: 20, 3: 30, 4: 40, 5: 50, 6: 60}\n",
    "\n",
    "4. Write a Python script to check if a given key already exists in a dictionary\n",
    "\n",
    "5. Write a Python program to iterate over dictionaries using for loop\n",
    "\n",
    "6.Write a Python script to generate and print a dictionary that contains a number (between 1 and n) in the form (x, x*x). \n",
    "Sample Dictionary ( n = 5) : \n",
    "Expected Output : {1: 1, 2: 4, 3: 9, 4: 16, 5: 25}\n",
    "\n",
    "\n",
    "7. Write a Python script to merge two Python dictionaries\n",
    "\n",
    "\n",
    "9.Write a Python program to sum all the items in a dictionary.\n",
    "\n",
    "10.Write a Python program to multiply all the items in a dictionary\n",
    "\n",
    "11. Write a Python program to remove a key from a dictionary\n",
    "\n",
    "12. Write a Python program to map two lists into a dictionary\n",
    "\n",
    "13. Write a Python program to sort a dictionary by key?\n",
    "\n",
    "14.Write a Python program to get the maximum and minimum value in a dictionary\n",
    "\n",
    "15. Write a Python program to get a dictionary from an object's fields?\n",
    "\n",
    "16.Write a Python program to remove duplicates from Dictionary. \n",
    "\n",
    "\n",
    "18. Write a Python program to check a dictionary is empty or not. \n",
    "\n",
    "\n",
    "19. Write a Python program to combine two dictionary adding values for common keys. \n",
    "d1 = {'a': 100, 'b': 200, 'c':300}\n",
    "d2 = {'a': 300, 'b': 200, 'd':400}\n",
    "Sample output: Counter({'a': 400, 'b': 400, 'd': 400, 'c': 300})\n",
    "\n",
    "\n",
    "20. Write a Python program to print all unique values in a dictionary. \n",
    "Sample Data : [{\"V\":\"S001\"}, {\"V\": \"S002\"}, {\"VI\": \"S001\"}, {\"VI\": \"S005\"}, {\"VII\":\"S005\"}, {\"V\":\"S009\"},{\"VIII\":\"S007\"}]\n",
    "Expected Output : Unique Values: {'S005', 'S002', 'S007', 'S001', 'S009'}\n",
    "\n",
    "\n",
    "21. Write a Python program to create and display all combinations of letters, selecting each letter from a different key in a dictionary. \n",
    "Sample data : {'1':['a','b'], '2':['c','d']}\n",
    "Expected Output: \n",
    "ac\n",
    "ad\n",
    "bc\n",
    "bd\n",
    "\n",
    "\n",
    "22. Write a Python program to find the highest 3 values in a dictionary. \n",
    "\n",
    "\n",
    "23. Write a Python program to combine values in python list of dictionaries. \n",
    "Sample data: [{'item': 'item1', 'amount': 400}, {'item': 'item2', 'amount': 300}, {'item': 'item1', 'amount': 750}]\n",
    "Expected Output: Counter({'item1': 1150, 'item2': 300})\n",
    "\n",
    "\n",
    "24. Write a Python program to create a dictionary from a string. \n",
    "Note: Track the count of the letters from the string.\n",
    "Sample string : 'w3resource'\n",
    "Expected output: {'3': 1, 's': 1, 'r': 2, 'u': 1, 'w': 1, 'c': 1, 'e': 2, 'o': 1}\n",
    "\n",
    "\n",
    "25. Write a Python program to print a dictionary in table format. \n",
    "\n",
    "\n",
    "26. Write a Python program to count the values associated with key in a dictionary. \n",
    "Sample data: = [{'id': 1, 'success': True, 'name': 'Lary'}, {'id': 2, 'success': False, 'name': 'Rabi'}, {'id': 3, 'success': True, 'name': 'Alex'}]\n",
    "Expected result: Count of how many dictionaries have success as True\n",
    "\n",
    "\n",
    "27. Write a Python program to convert a list into a nested dictionary of keys. \n",
    "\n",
    "\n",
    "28. Write a Python program to sort a list alphabetically in a dictionary. \n",
    "\n",
    "\n",
    "29. Write a Python program to remove spaces from dictionary keys. \n",
    "\n",
    "\n",
    "30. Write a Python program to get the top three items in a shop. \n",
    "Sample data: {'item1': 45.50, 'item2':35, 'item3': 41.30, 'item4':55, 'item5': 24}\n",
    "Expected Output: \n",
    "item4 55\n",
    "item1 45.5\n",
    "item3 41.3\n",
    "\n",
    "\n",
    "31. Write a Python program to get the key, value and item in a dictionary. \n",
    "\n",
    "\n",
    "32. Write a Python program to print a dictionary line by line. \n",
    "\n",
    "\n",
    "33. Write a Python program to check multiple keys exists in a dictionary. \n",
    "\n",
    "\n",
    "34. Write a Python program to count number of items in a dictionary value that is a list. \n",
    "\n",
    "\n",
    "35. Write a Python program to sort Counter by value. \n",
    "Sample data : {'Math':81, 'Physics':83, 'Chemistry':87}\n",
    "Expected data: [('Chemistry', 87), ('Physics', 83), ('Math', 81)]\n",
    "\n",
    "\n",
    "36. Write a Python program to create a dictionary from two lists without losing duplicate values. \n",
    "Sample lists: ['Class-V', 'Class-VI', 'Class-VII', 'Class-VIII'], [1, 2, 2, 3]\n",
    "Expected Output: defaultdict(<class 'set'>, {'Class-VII': {2}, 'Class-VI': {2}, 'Class-VIII': {3}, 'Class-V': {1}})\n",
    "\n",
    "\n",
    "37. Write a Python program to replace dictionary values with their sum. \n",
    "\n",
    "\n",
    "38. Write a Python program to match key values in two dictionaries. \n",
    "Sample dictionary: {'key1': 1, 'key2': 3, 'key3': 2}, {'key1': 1, 'key2': 2}\n",
    "Expected output: key1: 1 is present in both x and y\n",
    "\n",
    "\n",
    "39.Write a Python script to print a dictionary where the keys are numbers between 1 and 15 (both included) and the values are square of keys. \n",
    "Sample Dictionary \n",
    "{1: 1, 2: 4, 3: 9, 4: 16, 5: 25, 6: 36, 7: 49, 8: 64, 9: 81, 10: 100, 11: 121, 12: 144, 13: 169, 14: 196, 15: 225}"
   ]
  },
  {
   "cell_type": "code",
   "execution_count": 55,
   "metadata": {},
   "outputs": [
    {
     "data": {
      "text/plain": [
       "{1: 7, 7: 5, 6: 3, 4: 2, 5: 1}"
      ]
     },
     "execution_count": 55,
     "metadata": {},
     "output_type": "execute_result"
    }
   ],
   "source": [
    "#1. Write a Python script to sort (ascending and descending) a dictionary by value.?\n",
    "\n",
    "def sortDictionaryAsc(d):\n",
    "    s = dict(sorted(dict([(y,x) for x,y in d.items()]).items()))\n",
    "    return dict([(y,x) for x,y in s.items()])\n",
    "    \n",
    "\n",
    "def sortDictionaryDsc(d):\n",
    "    s = dict(sorted(dict([(y,x) for x,y in d.items()]).items(), reverse = True))\n",
    "    return dict([(y,x) for x,y in s.items()])\n",
    "    \n",
    "d = {5:1, 4:2, 6:3, 7:5, 1:7}\n",
    "sortDictionaryAsc(d)\n",
    "sortDictionaryDsc(d)"
   ]
  },
  {
   "cell_type": "code",
   "execution_count": 58,
   "metadata": {},
   "outputs": [
    {
     "data": {
      "text/plain": [
       "{0: 10, 1: 20, 3: 30}"
      ]
     },
     "execution_count": 58,
     "metadata": {},
     "output_type": "execute_result"
    }
   ],
   "source": [
    "# 2.Write a Python script to add a key to a dictionary.\n",
    "#Sample Dictionary : {0: 10, 1: 20}\n",
    "#Expected Result : {0: 10, 1: 20, 2: 30}\n",
    "\n",
    "def addKey(d, key, value):\n",
    "    d[key] = value\n",
    "\n",
    "d = {0: 10, 1: 20}\n",
    "addKey(d, 3, 30)\n",
    "d"
   ]
  },
  {
   "cell_type": "code",
   "execution_count": 67,
   "metadata": {},
   "outputs": [
    {
     "data": {
      "text/plain": [
       "{1: 10, 2: 20, 3: 30, 4: 40, 5: 50, 6: 60}"
      ]
     },
     "execution_count": 67,
     "metadata": {},
     "output_type": "execute_result"
    }
   ],
   "source": [
    "# 3.Write a Python script to concatenate following dictionaries to create a new one. \n",
    "\n",
    "# Sample Dictionary : \n",
    "dic1={1:10, 2:20} \n",
    "dic2={3:30, 4:40} \n",
    "dic3={5:50,6:60}\n",
    "\n",
    "# Expected Result : {1: 10, 2: 20, 3: 30, 4: 40, 5: 50, 6: 60}\n",
    "\n",
    "\n",
    "def concatDict(dict1 , dict2, dict3):\n",
    "    dict1.update(dict2)\n",
    "    dict1.update(dict3)\n",
    "    return dic1\n",
    "    \n",
    "\n",
    "concatDict(dic1, dic2, dic3)"
   ]
  },
  {
   "cell_type": "code",
   "execution_count": 69,
   "metadata": {},
   "outputs": [
    {
     "data": {
      "text/plain": [
       "True"
      ]
     },
     "execution_count": 69,
     "metadata": {},
     "output_type": "execute_result"
    }
   ],
   "source": [
    "# 4. Write a Python script to check if a given key already exists in a dictionary\n",
    "\n",
    "def checkKey(dic, key):\n",
    "    return key in dic.keys()\n",
    "\n",
    "    \n",
    "d = {5:1, 4:2, 6:3, 7:5, 1:7}\n",
    "checkKey(d, 5)"
   ]
  },
  {
   "cell_type": "code",
   "execution_count": 79,
   "metadata": {},
   "outputs": [
    {
     "name": "stdout",
     "output_type": "stream",
     "text": [
      "5 : 1\n",
      "4 : 2\n",
      "6 : 3\n",
      "7 : 5\n",
      "1 : 7\n"
     ]
    }
   ],
   "source": [
    "# 5. Write a Python program to iterate over dictionaries using for loop\n",
    "\n",
    "def iterateDic(d):\n",
    "    for i in d:\n",
    "        print(i, \":\", d[i])\n",
    "\n",
    "    \n",
    "d = {5:1, 4:2, 6:3, 7:5, 1:7}\n",
    "iterateDic(d)"
   ]
  },
  {
   "cell_type": "code",
   "execution_count": 82,
   "metadata": {},
   "outputs": [
    {
     "data": {
      "text/plain": [
       "{1: 1, 2: 4, 3: 9, 4: 16, 5: 25}"
      ]
     },
     "execution_count": 82,
     "metadata": {},
     "output_type": "execute_result"
    }
   ],
   "source": [
    "# 6.Write a Python script to generate and print a dictionary that contains a number (between 1 and n) in the form (x, x*x). \n",
    "# Sample Dictionary ( n = 5) : \n",
    "# Expected Output : {1: 1, 2: 4, 3: 9, 4: 16, 5: 25}\n",
    "\n",
    "def genDict(n):\n",
    "    d = { }\n",
    "    for i in range(n):\n",
    "        j = i + 1\n",
    "        d[j] = j*j\n",
    "    return d\n",
    "\n",
    "genDict(5)"
   ]
  },
  {
   "cell_type": "code",
   "execution_count": 85,
   "metadata": {},
   "outputs": [
    {
     "data": {
      "text/plain": [
       "{1: 10, 2: 20, 3: 30, 4: 40}"
      ]
     },
     "execution_count": 85,
     "metadata": {},
     "output_type": "execute_result"
    }
   ],
   "source": [
    "# 7. Write a Python script to merge two Python dictionaries\n",
    "\n",
    "def mergeDict(d1, d2):\n",
    "    d1.update(d2)\n",
    "    return d1\n",
    "\n",
    "d1={1:10, 2:20} \n",
    "d2={3:30, 4:40}\n",
    "\n",
    "mergeDict(d1, d2)"
   ]
  },
  {
   "cell_type": "code",
   "execution_count": 427,
   "metadata": {},
   "outputs": [
    {
     "data": {
      "text/plain": [
       "33"
      ]
     },
     "execution_count": 427,
     "metadata": {},
     "output_type": "execute_result"
    }
   ],
   "source": [
    " # Write a Python program to sum all the items in a dictionary.   \n",
    "    \n",
    "def sumDict(d):\n",
    "    total = 0\n",
    "    for key,value in d.items():\n",
    "        total += key + value\n",
    "    return total\n",
    "            \n",
    "sumDict({1:10, 2:20})"
   ]
  },
  {
   "cell_type": "code",
   "execution_count": 428,
   "metadata": {},
   "outputs": [
    {
     "data": {
      "text/plain": [
       "400"
      ]
     },
     "execution_count": 428,
     "metadata": {},
     "output_type": "execute_result"
    }
   ],
   "source": [
    "# Write a Python program to multiply all the items in a dictionary\n",
    "\n",
    "    \n",
    "def mulDict(d):\n",
    "    total = 1\n",
    "    for key,value in d.items():\n",
    "        total *= key * value\n",
    "    return total\n",
    "            \n",
    "mulDict({1:10, 2:20})"
   ]
  },
  {
   "cell_type": "code",
   "execution_count": 104,
   "metadata": {},
   "outputs": [
    {
     "data": {
      "text/plain": [
       "{3: 30}"
      ]
     },
     "execution_count": 104,
     "metadata": {},
     "output_type": "execute_result"
    }
   ],
   "source": [
    "# Write a Python program to remove a key from a dictionary\n",
    "\n",
    "def removeKey(d, key):\n",
    "    del d[key]\n",
    "    return d\n",
    "\n",
    "d2={3:30, 4:40}\n",
    "removeKey(d2, 4)"
   ]
  },
  {
   "cell_type": "code",
   "execution_count": 172,
   "metadata": {},
   "outputs": [
    {
     "data": {
      "text/plain": [
       "{1: 5, 2: 6, 3: 7, 4: 8}"
      ]
     },
     "execution_count": 172,
     "metadata": {},
     "output_type": "execute_result"
    }
   ],
   "source": [
    "#  Write a Python program to map two lists into a dictionary\n",
    "\n",
    "def mapList(l1, l2):\n",
    "    return dict(zip(l1, l2))\n",
    "\n",
    "l1 = [1,2,3,4]\n",
    "l2 = [5,6,7,8]\n",
    "\n",
    "mapList(l1, l2)"
   ]
  },
  {
   "cell_type": "code",
   "execution_count": 180,
   "metadata": {},
   "outputs": [
    {
     "data": {
      "text/plain": [
       "{1: 7, 4: 2, 5: 1, 6: 3, 7: 5}"
      ]
     },
     "execution_count": 180,
     "metadata": {},
     "output_type": "execute_result"
    }
   ],
   "source": [
    "# Write a Python program to sort a dictionary by key?\n",
    "\n",
    "def sortKey(d):\n",
    "    return dict(sorted(dict([(x,y) for x,y in d.items()]).items()))\n",
    "    \n",
    "d = {5:1, 4:2, 6:3, 7:5, 1:7}\n",
    "sortKey(d)"
   ]
  },
  {
   "cell_type": "code",
   "execution_count": 182,
   "metadata": {},
   "outputs": [
    {
     "data": {
      "text/plain": [
       "('max:', 7, 'min:', 1)"
      ]
     },
     "execution_count": 182,
     "metadata": {},
     "output_type": "execute_result"
    }
   ],
   "source": [
    "# Write a Python program to get the maximum and minimum value in a dictionary\n",
    "\n",
    "def maxminDict(d):\n",
    "    return \"max:\", max(d.values()), \"min:\", min(d.values())\n",
    "\n",
    "d = {5:1, 4:2, 6:3, 7:5, 1:7}\n",
    "maxminDict(d)"
   ]
  },
  {
   "cell_type": "code",
   "execution_count": 14,
   "metadata": {},
   "outputs": [
    {
     "data": {
      "text/plain": [
       "{'name': 'man', 'id': 12345, 'address': '123456', 'value': 'hello'}"
      ]
     },
     "execution_count": 14,
     "metadata": {},
     "output_type": "execute_result"
    }
   ],
   "source": [
    "# Write a Python program to get a dictionary from an object's fields?\n",
    "\n",
    "class dictObject():\n",
    "    \n",
    "    def __init__(self, value):\n",
    "        self.name = \"man\"\n",
    "        self.id = 12345\n",
    "        self.address = \"123456\"\n",
    "        self.value = value\n",
    "        \n",
    "    \n",
    "    \n",
    "obj = dictObject(\"hello\")\n",
    "s = obj.__dict__  \n",
    "s"
   ]
  },
  {
   "cell_type": "code",
   "execution_count": 37,
   "metadata": {},
   "outputs": [
    {
     "data": {
      "text/plain": [
       "{'bro': 'man', 'id': 12345, 'address': '123456'}"
      ]
     },
     "execution_count": 37,
     "metadata": {},
     "output_type": "execute_result"
    }
   ],
   "source": [
    "# Write a Python program to remove duplicates from Dictionary.\n",
    "\n",
    "def removeDuplicates(d):\n",
    "    a = dict([(y,x) for x,y in d.items()])\n",
    "    return dict([(y,x) for x,y in a.items()])\n",
    "\n",
    "d = {'name': 'man', 'id': 12345, 'address': '123456', 'value': 'man', 'bro': 'man'}\n",
    "removeDuplicates(d)\n"
   ]
  },
  {
   "cell_type": "code",
   "execution_count": 40,
   "metadata": {},
   "outputs": [
    {
     "data": {
      "text/plain": [
       "False"
      ]
     },
     "execution_count": 40,
     "metadata": {},
     "output_type": "execute_result"
    }
   ],
   "source": [
    "# Write a Python program to check a dictionary is empty or not. \n",
    "\n",
    "def checkEmpty(d):\n",
    "    return len(d) == 0\n",
    "\n",
    "d = {'name': 'man', 'id': 12345, 'address': '123456', 'value': 'man', 'bro': 'man'}\n",
    "checkEmpty(d)"
   ]
  },
  {
   "cell_type": "code",
   "execution_count": 79,
   "metadata": {},
   "outputs": [
    {
     "data": {
      "text/plain": [
       "{'a': 400, 'b': 400, 'd': 400, 'f': 600, 'g': 1300, 'c': 300}"
      ]
     },
     "execution_count": 79,
     "metadata": {},
     "output_type": "execute_result"
    }
   ],
   "source": [
    "# Write a Python program to combine two dictionary adding values for common keys. \n",
    "# d1 = {'a': 100, 'b': 200, 'c':300}\n",
    "# d2 = {'a': 300, 'b': 200, 'd':400}\n",
    "# Sample output: Counter({'a': 400, 'b': 400, 'd': 400, 'c': 300})\n",
    "\n",
    "def addValues(d1, d2):\n",
    "    for key1 in d1.keys():\n",
    "        for key2 in d2.keys():\n",
    "            if key1 == key2:\n",
    "                d1[key1] += d2[key2]\n",
    "    d2.update(d1)\n",
    "    return d2\n",
    "\n",
    "d1 = {'a': 100, 'b': 200, 'c':300, 'g': 900}\n",
    "d2 = {'a': 300, 'b': 200, 'd':400, 'f':600, 'g':400}\n",
    "\n",
    "addValues(d1, d2)"
   ]
  },
  {
   "cell_type": "code",
   "execution_count": 84,
   "metadata": {},
   "outputs": [
    {
     "name": "stdout",
     "output_type": "stream",
     "text": [
      "{'S001', 'S009', 'S005', 'S002', 'S007'}\n"
     ]
    }
   ],
   "source": [
    "# Write a Python program to print all unique values in a dictionary. \n",
    "# Sample Data : [{\"V\":\"S001\"}, {\"V\": \"S002\"}, {\"VI\": \"S001\"}, {\"VI\": \"S005\"}, {\"VII\":\"S005\"}, {\"V\":\"S009\"},{\"VIII\":\"S007\"}]\n",
    "# Expected Output : Unique Values: {'S005', 'S002', 'S007', 'S001', 'S009'}\n",
    "\n",
    "def printUnique(d):\n",
    "    print(set(d.values()))\n",
    "\n",
    "d =  {\"V\":\"S001\", \"VX\": \"S002\", \"VI\": \"S001\", \"VY\": \"S005\", \"VII\":\"S005\", \"V\":\"S009\",\"VIII\":\"S007\"}\n",
    "printUnique(d)"
   ]
  },
  {
   "cell_type": "code",
   "execution_count": 159,
   "metadata": {},
   "outputs": [
    {
     "data": {
      "text/plain": [
       "[('a', 'c', '7'),\n",
       " ('a', 'c', '9'),\n",
       " ('a', 'd', '7'),\n",
       " ('a', 'd', '9'),\n",
       " ('b', 'c', '7'),\n",
       " ('b', 'c', '9'),\n",
       " ('b', 'd', '7'),\n",
       " ('b', 'd', '9')]"
      ]
     },
     "execution_count": 159,
     "metadata": {},
     "output_type": "execute_result"
    }
   ],
   "source": [
    "# Write a Python program to create and display all combinations of letters, selecting each letter from a different key in a dictionary. \n",
    "# Sample data : {'1':['a','b'], '2':['c','d']}\n",
    "# Expected Output: \n",
    "# ac\n",
    "# ad\n",
    "# bc\n",
    "# bd\n",
    "import itertools\n",
    "\n",
    "def findComb(d):\n",
    "    lst = [values for values in d.values()]\n",
    "    return list((itertools.product(*lst)))\n",
    "\n",
    "d = {'1':['a','b'], '2':['c','d'],'3':['7','9']}\n",
    "findComb(d)"
   ]
  },
  {
   "cell_type": "code",
   "execution_count": 170,
   "metadata": {},
   "outputs": [
    {
     "data": {
      "text/plain": [
       "[1000, 523, 5]"
      ]
     },
     "execution_count": 170,
     "metadata": {},
     "output_type": "execute_result"
    }
   ],
   "source": [
    "# Write a Python program to find the highest 3 values in a dictionary. \n",
    "\n",
    "def findMax3(d, upto):\n",
    "    lst = []\n",
    "    v = [value for value in d.values()]\n",
    "    for i in range(upto):\n",
    "        lst.append(max(v))\n",
    "        v.remove(max(v))\n",
    "    return lst\n",
    "    \n",
    "        \n",
    "d = {'1':1, '2':2,'3':3, 4:4, 5:5, 100:1000, 6: 523}\n",
    "findMax3(d, 3)"
   ]
  },
  {
   "cell_type": "code",
   "execution_count": 502,
   "metadata": {},
   "outputs": [
    {
     "data": {
      "text/plain": [
       "Counter({'item1': 1150, 'item2': 300})"
      ]
     },
     "execution_count": 502,
     "metadata": {},
     "output_type": "execute_result"
    }
   ],
   "source": [
    "# Write a Python program to combine values in python list of dictionaries. \n",
    "# Sample data: [{'item': 'item1', 'amount': 400}, {'item': 'item2', 'amount': 300}, {'item': 'item1', 'amount': 750}]\n",
    "# Expected Output: Counter({'item1': 1150, 'item2': 300})\n",
    "\n",
    "from collections import Counter\n",
    "\n",
    "def combineValues(lst):\n",
    "    a = Counter()\n",
    "    for i in lst:\n",
    "        a[i['item']] += i['amount']\n",
    "    return a\n",
    "    \n",
    "s = [{'item': 'item1', 'amount': 400}, {'item': 'item2', 'amount': 300}, {'item': 'item1', 'amount': 750}]\n",
    "combineValues(s)"
   ]
  },
  {
   "cell_type": "code",
   "execution_count": 202,
   "metadata": {},
   "outputs": [
    {
     "data": {
      "text/plain": [
       "{'w': 1, '3': 1, 'r': 2, 'e': 2, 's': 1, 'o': 1, 'u': 1, 'c': 1}"
      ]
     },
     "execution_count": 202,
     "metadata": {},
     "output_type": "execute_result"
    }
   ],
   "source": [
    "# Write a Python program to create a dictionary from a string. \n",
    "# Note: Track the count of the letters from the string.\n",
    "# Sample string : 'w3resource'\n",
    "# Expected output: {'3': 1, 's': 1, 'r': 2, 'u': 1, 'w': 1, 'c': 1, 'e': 2, 'o': 1}\n",
    "\n",
    "def countChar(s):\n",
    "    d = {}\n",
    "    for i in s:\n",
    "        d[i] = d.get(i,0) + 1\n",
    "    return d\n",
    "s = 'w3resource'\n",
    "countChar(s)"
   ]
  },
  {
   "cell_type": "code",
   "execution_count": 452,
   "metadata": {},
   "outputs": [
    {
     "name": "stdout",
     "output_type": "stream",
     "text": [
      "['1', '2', '3']\n",
      "['7', '9', '10']\n",
      "['a', 'b', 'c']\n",
      "['c', 'd', 'e']\n"
     ]
    }
   ],
   "source": [
    "# Write a Python program to print a dictionary in table format. \n",
    "\n",
    "def printTable(d):\n",
    "    values = [v for v in d.values()]\n",
    "    keys = [k for k in d.keys()]\n",
    "    a = sorted(zip([keys] + values))\n",
    "    for i in a:\n",
    "        print(*i)\n",
    "        \n",
    "d = {'1':['a','b', 'c'], '2':['c','d', 'e'],'3':['7','9', '10']}    \n",
    "printTable(d)"
   ]
  },
  {
   "cell_type": "code",
   "execution_count": 429,
   "metadata": {},
   "outputs": [
    {
     "data": {
      "text/plain": [
       "2"
      ]
     },
     "execution_count": 429,
     "metadata": {},
     "output_type": "execute_result"
    }
   ],
   "source": [
    "# Write a Python program to count the values associated with key in a dictionary. \n",
    "# Sample data: = [{'id': 1, 'success': True, 'name': 'Lary'}, {'id': 2, 'success': False, 'name': 'Rabi'}, {'id': 3, 'success': True, 'name': 'Alex'}]\n",
    "# Expected result: Count of how many dictionaries have success as True\n",
    "\n",
    "def countThing(lst, key, value):\n",
    "    count = 0\n",
    "    for d in lst:\n",
    "        if d[key] == value:\n",
    "            count += 1\n",
    "    return count\n",
    "\n",
    "d = [{'id': 1, 'success': True, 'name': 'Lary'}, {'id': 2, 'success': False, 'name': 'Rabi'}, {'id': 3, 'success': True, 'name': 'Alex'}]\n",
    "countThing(d, 'success', True)"
   ]
  },
  {
   "cell_type": "code",
   "execution_count": 444,
   "metadata": {},
   "outputs": [
    {
     "data": {
      "text/plain": [
       "{1: {2: {3: {4: {}}}}}"
      ]
     },
     "execution_count": 444,
     "metadata": {},
     "output_type": "execute_result"
    }
   ],
   "source": [
    "# Write a Python program to convert a list into a nested dictionary of keys.\n",
    "\n",
    "def lstToKeys(lst):\n",
    "    s = d = {}\n",
    "    for i in lst:\n",
    "        d[i] = {}\n",
    "        d = d[i]\n",
    "    return s\n",
    "\n",
    "lst = [1,2,3,4]\n",
    "lstToKeys(lst)"
   ]
  },
  {
   "cell_type": "code",
   "execution_count": 426,
   "metadata": {},
   "outputs": [
    {
     "data": {
      "text/plain": [
       "{1: ['a', 'd', 's', 'z'], 2: ['b', 'c', 'l', 'v'], 3: ['o', 's', 'z']}"
      ]
     },
     "execution_count": 426,
     "metadata": {},
     "output_type": "execute_result"
    }
   ],
   "source": [
    "# Write a Python program to sort a list alphabetically in a dictionary.\n",
    "\n",
    "def sortLst(d):\n",
    "    v =  [sorted(v) for v in d.values()]\n",
    "    k = [k for k in d.keys()]\n",
    "    return dict(zip(k,v))\n",
    "\n",
    "d = { 1: ['a','z','s', 'd'], 2:['v', 'c', 'l', 'b'], 3: ['s', 'o', 'z']}\n",
    "sortLst(d)"
   ]
  },
  {
   "cell_type": "code",
   "execution_count": 295,
   "metadata": {},
   "outputs": [
    {
     "data": {
      "text/plain": [
       "{'key1': 1, 'key2': 3, 'key3': 2}"
      ]
     },
     "execution_count": 295,
     "metadata": {},
     "output_type": "execute_result"
    }
   ],
   "source": [
    "# Write a Python program to remove spaces from dictionary keys. \n",
    "\n",
    "def removeSpace(d):\n",
    "    return dict([(k.replace(' ', ''), v)  for k, v in d.items()])\n",
    "\n",
    "d = {'key 1': 1, 'key 2': 3, 'key 3': 2}\n",
    "removeSpace(d)\n"
   ]
  },
  {
   "cell_type": "code",
   "execution_count": 319,
   "metadata": {},
   "outputs": [
    {
     "data": {
      "text/plain": [
       "[(55, 'item4'), (45.5, 'item1'), (41.3, 'item3')]"
      ]
     },
     "execution_count": 319,
     "metadata": {},
     "output_type": "execute_result"
    }
   ],
   "source": [
    "# Write a Python program to get the top three items in a shop. \n",
    "# Sample data: {'item1': 45.50, 'item2':35, 'item3': 41.30, 'item4':55, 'item5': 24}\n",
    "# Expected Output: \n",
    "# item4 55\n",
    "# item1 45.5\n",
    "# item3 41.3\n",
    "\n",
    "def findTop(d, top):\n",
    "    a = sorted([(v,k) for (k,v) in d.items()], reverse = True)\n",
    "    return a[:top]\n",
    "\n",
    "        \n",
    "d = {'item1': 45.50, 'item2':35, 'item3': 41.30, 'item4':55, 'item5': 24}    \n",
    "findTop(d, 3)        "
   ]
  },
  {
   "cell_type": "code",
   "execution_count": 320,
   "metadata": {},
   "outputs": [
    {
     "data": {
      "text/plain": [
       "(dict_keys(['item1', 'item2', 'item3', 'item4', 'item5']),\n",
       " dict_values([45.5, 35, 41.3, 55, 24]),\n",
       " dict_items([('item1', 45.5), ('item2', 35), ('item3', 41.3), ('item4', 55), ('item5', 24)]))"
      ]
     },
     "execution_count": 320,
     "metadata": {},
     "output_type": "execute_result"
    }
   ],
   "source": [
    "# Write a Python program to get the key, value and item in a dictionary. \n",
    "\n",
    "def getAll(d):\n",
    "    return d.keys(), d.values(), d.items()\n",
    "\n",
    "d = {'item1': 45.50, 'item2':35, 'item3': 41.30, 'item4':55, 'item5': 24}  \n",
    "getAll(d)"
   ]
  },
  {
   "cell_type": "code",
   "execution_count": 323,
   "metadata": {},
   "outputs": [
    {
     "name": "stdout",
     "output_type": "stream",
     "text": [
      "item1 45.5\n",
      "item2 35\n",
      "item3 41.3\n",
      "item4 55\n",
      "item5 24\n"
     ]
    }
   ],
   "source": [
    "# Write a Python program to print a dictionary line by line.\n",
    "\n",
    "def printDict(d):\n",
    "    for i in d:\n",
    "        print(i, d[i])\n",
    "\n",
    "d = {'item1': 45.50, 'item2':35, 'item3': 41.30, 'item4':55, 'item5': 24}  \n",
    "printDict(d)"
   ]
  },
  {
   "cell_type": "code",
   "execution_count": 325,
   "metadata": {},
   "outputs": [
    {
     "data": {
      "text/plain": [
       "False"
      ]
     },
     "execution_count": 325,
     "metadata": {},
     "output_type": "execute_result"
    }
   ],
   "source": [
    "# Write a Python program to check multiple keys exists in a dictionary.\n",
    "\n",
    "def checkMul(d):\n",
    "    return len(d) > 1\n",
    "\n",
    "d = {'item1': 45.50, 'item2':35, 'item3': 41.30, 'item4':55, 'item5': 24}\n",
    "checkMul(d)"
   ]
  },
  {
   "cell_type": "code",
   "execution_count": 331,
   "metadata": {},
   "outputs": [
    {
     "data": {
      "text/plain": [
       "3"
      ]
     },
     "execution_count": 331,
     "metadata": {},
     "output_type": "execute_result"
    }
   ],
   "source": [
    "# Write a Python program to count number of items in a dictionary value that is a list.\n",
    "\n",
    "def countLists(d):\n",
    "    values = [v for v in d.values()]\n",
    "    count = 0\n",
    "    for i in values:\n",
    "        if type(i) == list:\n",
    "            count +=1\n",
    "    return count\n",
    "\n",
    "d = {1: [1,2,3,4], 2:[1,2,3,4], 4:[5], 6:7}\n",
    "countLists(d)"
   ]
  },
  {
   "cell_type": "code",
   "execution_count": 333,
   "metadata": {},
   "outputs": [
    {
     "data": {
      "text/plain": [
       "[('Chemistry', 87), ('Physics', 83), ('Math', 81)]"
      ]
     },
     "execution_count": 333,
     "metadata": {},
     "output_type": "execute_result"
    }
   ],
   "source": [
    "# Write a Python program to sort Counter by value. \n",
    "# Sample data : {'Math':81, 'Physics':83, 'Chemistry':87}\n",
    "# Expected data: [('Chemistry', 87), ('Physics', 83), ('Math', 81)]\n",
    "\n",
    "def sortValue(d):\n",
    "    return [(y,x) for x,y in sorted([(y,x) for x,y in d.items()], reverse = True)]\n",
    "\n",
    "d = {'Math':81, 'Physics':83, 'Chemistry':87}\n",
    "sortValue(d)"
   ]
  },
  {
   "cell_type": "code",
   "execution_count": 341,
   "metadata": {},
   "outputs": [
    {
     "data": {
      "text/plain": [
       "{'Class-V': 1, 'Class-VI': 2, 'Class-VII': 2, 'Class-VIII': 3}"
      ]
     },
     "execution_count": 341,
     "metadata": {},
     "output_type": "execute_result"
    }
   ],
   "source": [
    "# Write a Python program to create a dictionary from two lists without losing duplicate values. \n",
    "# Sample lists: ['Class-V', 'Class-VI', 'Class-VII', 'Class-VIII'], [1, 2, 2, 3]\n",
    "# Expected Output: defaultdict(<class 'set'>, {'Class-VII': {2}, 'Class-VI': {2}, 'Class-VIII': {3}, 'Class-V': {1}})\n",
    "\n",
    "\n",
    "def createDict(l1, l2):\n",
    "    return dict(zip(l1, l2))\n",
    "\n",
    "l1 = ['Class-V', 'Class-VI', 'Class-VII', 'Class-VIII']\n",
    "l2 = [1, 2, 2, 3]\n",
    "\n",
    "createDict(l1, l2)"
   ]
  },
  {
   "cell_type": "code",
   "execution_count": 343,
   "metadata": {},
   "outputs": [
    {
     "data": {
      "text/plain": [
       "{1: 17, 2: 17, 3: 17, 5: 17}"
      ]
     },
     "execution_count": 343,
     "metadata": {},
     "output_type": "execute_result"
    }
   ],
   "source": [
    "# Write a Python program to replace dictionary values with their sum. \n",
    "\n",
    "def doIt(d):\n",
    "    total = sum([v for v in d.values()])\n",
    "    for i in d:\n",
    "        d[i] = total\n",
    "    return d\n",
    "\n",
    "d = {1:2, 2:3, 3:4, 5:8}\n",
    "doIt(d)"
   ]
  },
  {
   "cell_type": "code",
   "execution_count": 380,
   "metadata": {},
   "outputs": [
    {
     "data": {
      "text/plain": [
       "([['key1', 1], ['key2', 3]], 'present in both')"
      ]
     },
     "execution_count": 380,
     "metadata": {},
     "output_type": "execute_result"
    }
   ],
   "source": [
    "#Write a Python program to match key values in two dictionaries. \n",
    "#Sample dictionary: {'key1': 1, 'key2': 3, 'key3': 2}, {'key1': 1, 'key2': 2}\n",
    "#Expected output: key1: 1 is present in both x and y\n",
    "\n",
    "def matchDict(d1, d2):\n",
    "    lst = []\n",
    "    for i in d1:\n",
    "        for j in d2:\n",
    "            if i == j and d1[i] == d2[j]:\n",
    "                lst.append([i,d1[i]])\n",
    "    return lst, 'present in both'\n",
    "            \n",
    "d1 = {'key1': 1, 'key2': 3, 'key3': 2}\n",
    "d2 = {'key1': 1, 'key2': 3}\n",
    "matchDict(d1, d2)"
   ]
  },
  {
   "cell_type": "code",
   "execution_count": 381,
   "metadata": {},
   "outputs": [
    {
     "data": {
      "text/plain": [
       "{1: 1,\n",
       " 2: 4,\n",
       " 3: 9,\n",
       " 4: 16,\n",
       " 5: 25,\n",
       " 6: 36,\n",
       " 7: 49,\n",
       " 8: 64,\n",
       " 9: 81,\n",
       " 10: 100,\n",
       " 11: 121,\n",
       " 12: 144,\n",
       " 13: 169,\n",
       " 14: 196,\n",
       " 15: 225}"
      ]
     },
     "execution_count": 381,
     "metadata": {},
     "output_type": "execute_result"
    }
   ],
   "source": [
    "# Write a Python script to print a dictionary where the keys are numbers between 1 and 15 (both included) and the values are square of keys. \n",
    "# Sample Dictionary \n",
    "# {1: 1, 2: 4, 3: 9, 4: 16, 5: 25, 6: 36, 7: 49, 8: 64, 9: 81, 10: 100, 11: 121, 12: 144, 13: 169, 14: 196, 15: 225}\n",
    "\n",
    "def randomDict(n):\n",
    "    d = {}\n",
    "    for i in range(1, n+1):\n",
    "        d[i] = i * i\n",
    "    return d\n",
    "\n",
    "randomDict(15)"
   ]
  },
  {
   "cell_type": "code",
   "execution_count": null,
   "metadata": {},
   "outputs": [],
   "source": [
    "# 1. Convert the dictionary to set and solve all the questions which I sent you last evening. \n",
    "# 2. Explain me the difference between list and tuple in your own words\n",
    "# 3. Explain me the slicing and indexing for string \n",
    "# 4. Give me an example for list inside a tuple.  \n"
   ]
  },
  {
   "cell_type": "code",
   "execution_count": 2,
   "metadata": {},
   "outputs": [
    {
     "data": {
      "text/plain": [
       "{1, 2, 3, 4, 5, 6, 7, 8, 9, 10}"
      ]
     },
     "execution_count": 2,
     "metadata": {},
     "output_type": "execute_result"
    }
   ],
   "source": [
    "s1 = {1,2,3,4,5}\n",
    "s2 = {6,7,8,9,10}\n",
    "s1.union(s2)"
   ]
  },
  {
   "cell_type": "markdown",
   "metadata": {},
   "source": [
    "Lists are mutable whereas tuples are immutable. Lists can be modified which means we can add, remove, change, etc \n",
    "once assigning values to the lists without creating a different object which is not possible with tuples.\n",
    "\n",
    "Each character in the string has an index. For example s = \"hello\" consist of 5 chars and the index of h is 0, e is 1 and so on. \n",
    "We can access the values at each index by s[0], s[1], etc. Strings also have negative indexes where s[-1] will reference the last \n",
    "character in the string. \n",
    "String slicing is based on the concept of string indexing. It allows us to efficiently slice the string or get a substring and \n",
    "also we can modify values. For example s= \"hello\", to reverse the string we can use s[::-1] or we can get a substring by using \n",
    "s[2:] which will give us all the chars after index 2 including 2. \n",
    "\n",
    "Example of list inside a tuple: t = ([1,2,3], [5,6,9,8])\n"
   ]
  },
  {
   "cell_type": "markdown",
   "metadata": {},
   "source": [
    "# help(set) to get info about all the functions and other stuffs "
   ]
  },
  {
   "cell_type": "code",
   "execution_count": 10,
   "metadata": {},
   "outputs": [
    {
     "data": {
      "text/plain": [
       "tuple"
      ]
     },
     "execution_count": 10,
     "metadata": {},
     "output_type": "execute_result"
    }
   ],
   "source": [
    "t = ([1,2,3], [5,6,9,8])\n",
    "type(t)"
   ]
  },
  {
   "cell_type": "code",
   "execution_count": 37,
   "metadata": {},
   "outputs": [
    {
     "data": {
      "text/plain": [
       "[1, 3, 4, 6, 5]"
      ]
     },
     "execution_count": 37,
     "metadata": {},
     "output_type": "execute_result"
    }
   ],
   "source": [
    "t = (1,2,1,3,4,6,5)\n",
    "a,b,*c = t\n",
    "c"
   ]
  },
  {
   "cell_type": "code",
   "execution_count": 3,
   "metadata": {},
   "outputs": [
    {
     "name": "stdout",
     "output_type": "stream",
     "text": [
      "1\n",
      "1\n",
      "4\n",
      "27\n",
      "256\n",
      "3125\n",
      "46656\n",
      "823543\n",
      "16777216\n",
      "387420489\n",
      "10000000000\n",
      "285311670611\n",
      "8916100448256\n",
      "302875106592253\n",
      "11112006825558016\n",
      "437893890380859375\n",
      "18446744073709551616\n",
      "827240261886336764177\n",
      "39346408075296537575424\n",
      "1978419655660313589123979\n",
      "104857600000000000000000000\n",
      "5842587018385982521381124421\n",
      "341427877364219557396646723584\n",
      "20880467999847912034355032910567\n",
      "1333735776850284124449081472843776\n",
      "88817841970012523233890533447265625\n",
      "6156119580207157310796674288400203776\n",
      "443426488243037769948249630619149892803\n",
      "33145523113253374862572728253364605812736\n",
      "2567686153161211134561828214731016126483469\n",
      "205891132094649000000000000000000000000000000\n",
      "17069174130723235958610643029059314756044734431\n",
      "1461501637330902918203684832716283019655932542976\n",
      "129110040087761027839616029934664535539337183380513\n",
      "11756638905368616011414050501310355554617941909569536\n",
      "1102507499354148695951786433413508348166942596435546875\n",
      "106387358923716524807713475752456393740167855629859291136\n",
      "10555134955777783414078330085995832946127396083370199442517\n",
      "1075911801979993982060429252856123779115487368830416064610304\n",
      "112595147462071192539789448988889059930192105219196517009951959\n",
      "12089258196146291747061760000000000000000000000000000000000000000\n",
      "1330877630632711998713399240963346255985889330161650994325137953641\n",
      "150130937545296572356771972164254457814047970568738777235893533016064\n",
      "17343773367030267519903781288812032158308062539012091953077767198995507\n",
      "2050773823560610053645205609172376035486179836520607547294916966189367296\n",
      "248063644451341145494649182395412689744530581492654164321720600128173828125\n",
      "30680346300794274230660433647640397899788170645078853280082659754365153181696\n",
      "3877924263464448622666648186154330754898344901344205917642325627886496385062863\n",
      "500702078263459319174537025249570888246709955377400223021257741084821677152403456\n",
      "66009724686219550843768321818371771650147004059278069406814190436565131829325062449\n",
      "8881784197001252323389053344726562500000000000000000000000000000000000000000000000000\n",
      "1219211305094648479473193481872927834667576992593770717189298225284399541977208231315051\n",
      "170676555274132171974277914691501574771358362295975962674353045737940041855191232907575296\n",
      "24356848165022712132477606520104725518533453128685640844505130879576720609150223301256150373\n",
      "3542118045010639240328481337533320712639808638036812473211109743262552383710557968252383789056\n",
      "524744532468751923546122657597368049278513737089035272057324643668607677682302892208099365234375\n",
      "79164324866862966607842406018063254671922245312646690223362402918484170424104310169552592050323456\n",
      "12158129736671364080886280192352136280305445908985401876990335800107686586023081377754367704855688057\n",
      "1900306380941594479763883944859394903933421733915497351026033862324967197615194912638195921621021097984\n",
      "302182066535432255614734701333399524449282910532282724655138380663835618264136459996754463358299552427939\n",
      "48873677980689257489322752273774603865660850176000000000000000000000000000000000000000000000000000000000000\n",
      "8037480562545943774063961638435258139453693382991023311670379647429452389091570630196571368048020948560431661\n",
      "1343645645152250046583026779322969373035290953763411540290906502671301148502338015157014479136799509522304466944\n",
      "228273036346967044979900512337165522400819024722490933829954793073267717315004135590642802687246850771579138342847\n",
      "39402006196394479212279040100143613805079739270465446667948293404245721771497210611414266254884915640806627990306816\n",
      "6908252164760920851405538694468286082230378724259454186289117297729987129104901877330036086277686990797519683837890625\n",
      "1229984803535237425357460579824952453848609953896821302286319065669207712270213276022808840210306942692366529569453244416\n",
      "222337020242360576812569226538683753874082408437758291741262115823894811650848346334502642370010973465496690788650052277723\n",
      "40794917954274783314474389422963594412010553412954188046665939634971631296545460720786532465498226465248060567545587093733376\n",
      "7596040312163297274222442578208043236112279041839441308045514203595638030283176823539793587591372230230103933110810192201741429\n"
     ]
    }
   ],
   "source": [
    "t = (x**x for x in range(70))\n",
    "for i in t:\n",
    "    print(i)"
   ]
  },
  {
   "cell_type": "code",
   "execution_count": 12,
   "metadata": {},
   "outputs": [
    {
     "data": {
      "text/plain": [
       "{1, 2, 10}"
      ]
     },
     "execution_count": 12,
     "metadata": {},
     "output_type": "execute_result"
    }
   ],
   "source": [
    "s = set([1,2,1,2,1,2,1])\n",
    "s.add(10)\n",
    "s"
   ]
  },
  {
   "cell_type": "code",
   "execution_count": 16,
   "metadata": {},
   "outputs": [
    {
     "name": "stdout",
     "output_type": "stream",
     "text": [
      "Help on class str in module builtins:\n",
      "\n",
      "class str(object)\n",
      " |  str(object='') -> str\n",
      " |  str(bytes_or_buffer[, encoding[, errors]]) -> str\n",
      " |  \n",
      " |  Create a new string object from the given object. If encoding or\n",
      " |  errors is specified, then the object must expose a data buffer\n",
      " |  that will be decoded using the given encoding and error handler.\n",
      " |  Otherwise, returns the result of object.__str__() (if defined)\n",
      " |  or repr(object).\n",
      " |  encoding defaults to sys.getdefaultencoding().\n",
      " |  errors defaults to 'strict'.\n",
      " |  \n",
      " |  Methods defined here:\n",
      " |  \n",
      " |  __add__(self, value, /)\n",
      " |      Return self+value.\n",
      " |  \n",
      " |  __contains__(self, key, /)\n",
      " |      Return key in self.\n",
      " |  \n",
      " |  __eq__(self, value, /)\n",
      " |      Return self==value.\n",
      " |  \n",
      " |  __format__(...)\n",
      " |      S.__format__(format_spec) -> str\n",
      " |      \n",
      " |      Return a formatted version of S as described by format_spec.\n",
      " |  \n",
      " |  __ge__(self, value, /)\n",
      " |      Return self>=value.\n",
      " |  \n",
      " |  __getattribute__(self, name, /)\n",
      " |      Return getattr(self, name).\n",
      " |  \n",
      " |  __getitem__(self, key, /)\n",
      " |      Return self[key].\n",
      " |  \n",
      " |  __getnewargs__(...)\n",
      " |  \n",
      " |  __gt__(self, value, /)\n",
      " |      Return self>value.\n",
      " |  \n",
      " |  __hash__(self, /)\n",
      " |      Return hash(self).\n",
      " |  \n",
      " |  __iter__(self, /)\n",
      " |      Implement iter(self).\n",
      " |  \n",
      " |  __le__(self, value, /)\n",
      " |      Return self<=value.\n",
      " |  \n",
      " |  __len__(self, /)\n",
      " |      Return len(self).\n",
      " |  \n",
      " |  __lt__(self, value, /)\n",
      " |      Return self<value.\n",
      " |  \n",
      " |  __mod__(self, value, /)\n",
      " |      Return self%value.\n",
      " |  \n",
      " |  __mul__(self, value, /)\n",
      " |      Return self*value.n\n",
      " |  \n",
      " |  __ne__(self, value, /)\n",
      " |      Return self!=value.\n",
      " |  \n",
      " |  __new__(*args, **kwargs) from builtins.type\n",
      " |      Create and return a new object.  See help(type) for accurate signature.\n",
      " |  \n",
      " |  __repr__(self, /)\n",
      " |      Return repr(self).\n",
      " |  \n",
      " |  __rmod__(self, value, /)\n",
      " |      Return value%self.\n",
      " |  \n",
      " |  __rmul__(self, value, /)\n",
      " |      Return self*value.\n",
      " |  \n",
      " |  __sizeof__(...)\n",
      " |      S.__sizeof__() -> size of S in memory, in bytes\n",
      " |  \n",
      " |  __str__(self, /)\n",
      " |      Return str(self).\n",
      " |  \n",
      " |  capitalize(...)\n",
      " |      S.capitalize() -> str\n",
      " |      \n",
      " |      Return a capitalized version of S, i.e. make the first character\n",
      " |      have upper case and the rest lower case.\n",
      " |  \n",
      " |  casefold(...)\n",
      " |      S.casefold() -> str\n",
      " |      \n",
      " |      Return a version of S suitable for caseless comparisons.\n",
      " |  \n",
      " |  center(...)\n",
      " |      S.center(width[, fillchar]) -> str\n",
      " |      \n",
      " |      Return S centered in a string of length width. Padding is\n",
      " |      done using the specified fill character (default is a space)\n",
      " |  \n",
      " |  count(...)\n",
      " |      S.count(sub[, start[, end]]) -> int\n",
      " |      \n",
      " |      Return the number of non-overlapping occurrences of substring sub in\n",
      " |      string S[start:end].  Optional arguments start and end are\n",
      " |      interpreted as in slice notation.\n",
      " |  \n",
      " |  encode(...)\n",
      " |      S.encode(encoding='utf-8', errors='strict') -> bytes\n",
      " |      \n",
      " |      Encode S using the codec registered for encoding. Default encoding\n",
      " |      is 'utf-8'. errors may be given to set a different error\n",
      " |      handling scheme. Default is 'strict' meaning that encoding errors raise\n",
      " |      a UnicodeEncodeError. Other possible values are 'ignore', 'replace' and\n",
      " |      'xmlcharrefreplace' as well as any other name registered with\n",
      " |      codecs.register_error that can handle UnicodeEncodeErrors.\n",
      " |  \n",
      " |  endswith(...)\n",
      " |      S.endswith(suffix[, start[, end]]) -> bool\n",
      " |      \n",
      " |      Return True if S ends with the specified suffix, False otherwise.\n",
      " |      With optional start, test S beginning at that position.\n",
      " |      With optional end, stop comparing S at that position.\n",
      " |      suffix can also be a tuple of strings to try.\n",
      " |  \n",
      " |  expandtabs(...)\n",
      " |      S.expandtabs(tabsize=8) -> str\n",
      " |      \n",
      " |      Return a copy of S where all tab characters are expanded using spaces.\n",
      " |      If tabsize is not given, a tab size of 8 characters is assumed.\n",
      " |  \n",
      " |  find(...)\n",
      " |      S.find(sub[, start[, end]]) -> int\n",
      " |      \n",
      " |      Return the lowest index in S where substring sub is found,\n",
      " |      such that sub is contained within S[start:end].  Optional\n",
      " |      arguments start and end are interpreted as in slice notation.\n",
      " |      \n",
      " |      Return -1 on failure.\n",
      " |  \n",
      " |  format(...)\n",
      " |      S.format(*args, **kwargs) -> str\n",
      " |      \n",
      " |      Return a formatted version of S, using substitutions from args and kwargs.\n",
      " |      The substitutions are identified by braces ('{' and '}').\n",
      " |  \n",
      " |  format_map(...)\n",
      " |      S.format_map(mapping) -> str\n",
      " |      \n",
      " |      Return a formatted version of S, using substitutions from mapping.\n",
      " |      The substitutions are identified by braces ('{' and '}').\n",
      " |  \n",
      " |  index(...)\n",
      " |      S.index(sub[, start[, end]]) -> int\n",
      " |      \n",
      " |      Return the lowest index in S where substring sub is found, \n",
      " |      such that sub is contained within S[start:end].  Optional\n",
      " |      arguments start and end are interpreted as in slice notation.\n",
      " |      \n",
      " |      Raises ValueError when the substring is not found.\n",
      " |  \n",
      " |  isalnum(...)\n",
      " |      S.isalnum() -> bool\n",
      " |      \n",
      " |      Return True if all characters in S are alphanumeric\n",
      " |      and there is at least one character in S, False otherwise.\n",
      " |  \n",
      " |  isalpha(...)\n",
      " |      S.isalpha() -> bool\n",
      " |      \n",
      " |      Return True if all characters in S are alphabetic\n",
      " |      and there is at least one character in S, False otherwise.\n",
      " |  \n",
      " |  isdecimal(...)\n",
      " |      S.isdecimal() -> bool\n",
      " |      \n",
      " |      Return True if there are only decimal characters in S,\n",
      " |      False otherwise.\n",
      " |  \n",
      " |  isdigit(...)\n",
      " |      S.isdigit() -> bool\n",
      " |      \n",
      " |      Return True if all characters in S are digits\n",
      " |      and there is at least one character in S, False otherwise.\n",
      " |  \n",
      " |  isidentifier(...)\n",
      " |      S.isidentifier() -> bool\n",
      " |      \n",
      " |      Return True if S is a valid identifier according\n",
      " |      to the language definition.\n",
      " |      \n",
      " |      Use keyword.iskeyword() to test for reserved identifiers\n",
      " |      such as \"def\" and \"class\".\n",
      " |  \n",
      " |  islower(...)\n",
      " |      S.islower() -> bool\n",
      " |      \n",
      " |      Return True if all cased characters in S are lowercase and there is\n",
      " |      at least one cased character in S, False otherwise.\n",
      " |  \n",
      " |  isnumeric(...)\n",
      " |      S.isnumeric() -> bool\n",
      " |      \n",
      " |      Return True if there are only numeric characters in S,\n",
      " |      False otherwise.\n",
      " |  \n",
      " |  isprintable(...)\n",
      " |      S.isprintable() -> bool\n",
      " |      \n",
      " |      Return True if all characters in S are considered\n",
      " |      printable in repr() or S is empty, False otherwise.\n",
      " |  \n",
      " |  isspace(...)\n",
      " |      S.isspace() -> bool\n",
      " |      \n",
      " |      Return True if all characters in S are whitespace\n",
      " |      and there is at least one character in S, False otherwise.\n",
      " |  \n",
      " |  istitle(...)\n",
      " |      S.istitle() -> bool\n",
      " |      \n",
      " |      Return True if S is a titlecased string and there is at least one\n",
      " |      character in S, i.e. upper- and titlecase characters may only\n",
      " |      follow uncased characters and lowercase characters only cased ones.\n",
      " |      Return False otherwise.\n",
      " |  \n",
      " |  isupper(...)\n",
      " |      S.isupper() -> bool\n",
      " |      \n",
      " |      Return True if all cased characters in S are uppercase and there is\n",
      " |      at least one cased character in S, False otherwise.\n",
      " |  \n",
      " |  join(...)\n",
      " |      S.join(iterable) -> str\n",
      " |      \n",
      " |      Return a string which is the concatenation of the strings in the\n",
      " |      iterable.  The separator between elements is S.\n",
      " |  \n",
      " |  ljust(...)\n",
      " |      S.ljust(width[, fillchar]) -> str\n",
      " |      \n",
      " |      Return S left-justified in a Unicode string of length width. Padding is\n",
      " |      done using the specified fill character (default is a space).\n",
      " |  \n",
      " |  lower(...)\n",
      " |      S.lower() -> str\n",
      " |      \n",
      " |      Return a copy of the string S converted to lowercase.\n",
      " |  \n",
      " |  lstrip(...)\n",
      " |      S.lstrip([chars]) -> str\n",
      " |      \n",
      " |      Return a copy of the string S with leading whitespace removed.\n",
      " |      If chars is given and not None, remove characters in chars instead.\n",
      " |  \n",
      " |  partition(...)\n",
      " |      S.partition(sep) -> (head, sep, tail)\n",
      " |      \n",
      " |      Search for the separator sep in S, and return the part before it,\n",
      " |      the separator itself, and the part after it.  If the separator is not\n",
      " |      found, return S and two empty strings.\n",
      " |  \n",
      " |  replace(...)\n",
      " |      S.replace(old, new[, count]) -> str\n",
      " |      \n",
      " |      Return a copy of S with all occurrences of substring\n",
      " |      old replaced by new.  If the optional argument count is\n",
      " |      given, only the first count occurrences are replaced.\n",
      " |  \n",
      " |  rfind(...)\n",
      " |      S.rfind(sub[, start[, end]]) -> int\n",
      " |      \n",
      " |      Return the highest index in S where substring sub is found,\n",
      " |      such that sub is contained within S[start:end].  Optional\n",
      " |      arguments start and end are interpreted as in slice notation.\n",
      " |      \n",
      " |      Return -1 on failure.\n",
      " |  \n",
      " |  rindex(...)\n",
      " |      S.rindex(sub[, start[, end]]) -> int\n",
      " |      \n",
      " |      Return the highest index in S where substring sub is found,\n",
      " |      such that sub is contained within S[start:end].  Optional\n",
      " |      arguments start and end are interpreted as in slice notation.\n",
      " |      \n",
      " |      Raises ValueError when the substring is not found.\n",
      " |  \n",
      " |  rjust(...)\n",
      " |      S.rjust(width[, fillchar]) -> str\n",
      " |      \n",
      " |      Return S right-justified in a string of length width. Padding is\n",
      " |      done using the specified fill character (default is a space).\n",
      " |  \n",
      " |  rpartition(...)\n",
      " |      S.rpartition(sep) -> (head, sep, tail)\n",
      " |      \n",
      " |      Search for the separator sep in S, starting at the end of S, and return\n",
      " |      the part before it, the separator itself, and the part after it.  If the\n",
      " |      separator is not found, return two empty strings and S.\n",
      " |  \n",
      " |  rsplit(...)\n",
      " |      S.rsplit(sep=None, maxsplit=-1) -> list of strings\n",
      " |      \n",
      " |      Return a list of the words in S, using sep as the\n",
      " |      delimiter string, starting at the end of the string and\n",
      " |      working to the front.  If maxsplit is given, at most maxsplit\n",
      " |      splits are done. If sep is not specified, any whitespace string\n",
      " |      is a separator.\n",
      " |  \n",
      " |  rstrip(...)\n",
      " |      S.rstrip([chars]) -> str\n",
      " |      \n",
      " |      Return a copy of the string S with trailing whitespace removed.\n",
      " |      If chars is given and not None, remove characters in chars instead.\n",
      " |  \n",
      " |  split(...)\n",
      " |      S.split(sep=None, maxsplit=-1) -> list of strings\n",
      " |      \n",
      " |      Return a list of the words in S, using sep as the\n",
      " |      delimiter string.  If maxsplit is given, at most maxsplit\n",
      " |      splits are done. If sep is not specified or is None, any\n",
      " |      whitespace string is a separator and empty strings are\n",
      " |      removed from the result.\n",
      " |  \n",
      " |  splitlines(...)\n",
      " |      S.splitlines([keepends]) -> list of strings\n",
      " |      \n",
      " |      Return a list of the lines in S, breaking at line boundaries.\n",
      " |      Line breaks are not included in the resulting list unless keepends\n",
      " |      is given and true.\n",
      " |  \n",
      " |  startswith(...)\n",
      " |      S.startswith(prefix[, start[, end]]) -> bool\n",
      " |      \n",
      " |      Return True if S starts with the specified prefix, False otherwise.\n",
      " |      With optional start, test S beginning at that position.\n",
      " |      With optional end, stop comparing S at that position.\n",
      " |      prefix can also be a tuple of strings to try.\n",
      " |  \n",
      " |  strip(...)\n",
      " |      S.strip([chars]) -> str\n",
      " |      \n",
      " |      Return a copy of the string S with leading and trailing\n",
      " |      whitespace removed.\n",
      " |      If chars is given and not None, remove characters in chars instead.\n",
      " |  \n",
      " |  swapcase(...)\n",
      " |      S.swapcase() -> str\n",
      " |      \n",
      " |      Return a copy of S with uppercase characters converted to lowercase\n",
      " |      and vice versa.\n",
      " |  \n",
      " |  title(...)\n",
      " |      S.title() -> str\n",
      " |      \n",
      " |      Return a titlecased version of S, i.e. words start with title case\n",
      " |      characters, all remaining cased characters have lower case.\n",
      " |  \n",
      " |  translate(...)\n",
      " |      S.translate(table) -> str\n",
      " |      \n",
      " |      Return a copy of the string S in which each character has been mapped\n",
      " |      through the given translation table. The table must implement\n",
      " |      lookup/indexing via __getitem__, for instance a dictionary or list,\n",
      " |      mapping Unicode ordinals to Unicode ordinals, strings, or None. If\n",
      " |      this operation raises LookupError, the character is left untouched.\n",
      " |      Characters mapped to None are deleted.\n",
      " |  \n",
      " |  upper(...)\n",
      " |      S.upper() -> str\n",
      " |      \n",
      " |      Return a copy of S converted to uppercase.\n",
      " |  \n",
      " |  zfill(...)\n",
      " |      S.zfill(width) -> str\n",
      " |      \n",
      " |      Pad a numeric string S with zeros on the left, to fill a field\n",
      " |      of the specified width. The string S is never truncated.\n",
      " |  \n",
      " |  ----------------------------------------------------------------------\n",
      " |  Static methods defined here:\n",
      " |  \n",
      " |  maketrans(x, y=None, z=None, /)\n",
      " |      Return a translation table usable for str.translate().\n",
      " |      \n",
      " |      If there is only one argument, it must be a dictionary mapping Unicode\n",
      " |      ordinals (integers) or characters to Unicode ordinals, strings or None.\n",
      " |      Character keys will be then converted to ordinals.\n",
      " |      If there are two arguments, they must be strings of equal length, and\n",
      " |      in the resulting dictionary, each character in x will be mapped to the\n",
      " |      character at the same position in y. If there is a third argument, it\n",
      " |      must be a string, whose characters will be mapped to None in the result.\n",
      "\n"
     ]
    },
    {
     "data": {
      "text/plain": [
       "2503729765320"
      ]
     },
     "execution_count": 16,
     "metadata": {},
     "output_type": "execute_result"
    }
   ],
   "source": [
    "s = \"one\"\n",
    "help(str)\n",
    "id(s)"
   ]
  },
  {
   "cell_type": "markdown",
   "metadata": {},
   "source": [
    "# Functions"
   ]
  },
  {
   "cell_type": "markdown",
   "metadata": {},
   "source": [
    "# Multiple arguments (*)"
   ]
  },
  {
   "cell_type": "code",
   "execution_count": 3,
   "metadata": {},
   "outputs": [
    {
     "name": "stdout",
     "output_type": "stream",
     "text": [
      "6\n",
      "(1, 2, 3, 6)\n",
      "1\n",
      "2\n",
      "3\n",
      "6\n"
     ]
    }
   ],
   "source": [
    "def find(*s, x = 5):\n",
    "    print(x)\n",
    "    print(s)\n",
    "    for i in s:\n",
    "        print(i)\n",
    "        \n",
    "find(1,2,3,6, x = 6)\n",
    "\n"
   ]
  },
  {
   "cell_type": "markdown",
   "metadata": {},
   "source": [
    "# ** Keyword arguments (kwargs)"
   ]
  },
  {
   "cell_type": "code",
   "execution_count": 4,
   "metadata": {},
   "outputs": [
    {
     "name": "stdout",
     "output_type": "stream",
     "text": [
      "{'n': 2, 's': 1, 'p': 5}\n"
     ]
    },
    {
     "data": {
      "text/plain": [
       "([2, 1, 5], ['n', 's', 'p'])"
      ]
     },
     "execution_count": 4,
     "metadata": {},
     "output_type": "execute_result"
    }
   ],
   "source": [
    "# here kwargs converts the arguments or parameters into dictionary\n",
    "\n",
    "def find(**kwargs):\n",
    "    print(kwargs)\n",
    "    return [i for i in kwargs.values()], [i for i in kwargs.keys()]\n",
    "\n",
    "find(n= 2, s = 1, p= 5)"
   ]
  },
  {
   "cell_type": "markdown",
   "metadata": {},
   "source": [
    "# can use global a to define a variable named a globally"
   ]
  },
  {
   "cell_type": "code",
   "execution_count": 108,
   "metadata": {},
   "outputs": [
    {
     "name": "stdout",
     "output_type": "stream",
     "text": [
      "4\n",
      "4 6\n"
     ]
    }
   ],
   "source": [
    "# global to make the varibale scope global\n",
    "global a\n",
    "a = 4\n",
    "def hello():\n",
    "    global b\n",
    "    b = 6\n",
    "    print(a)\n",
    "    \n",
    "def bro():\n",
    "    print(a,b)\n",
    "    \n",
    "hello()\n",
    "bro()"
   ]
  },
  {
   "cell_type": "markdown",
   "metadata": {},
   "source": [
    "# *Lambda* or anonymous functions"
   ]
  },
  {
   "cell_type": "code",
   "execution_count": 109,
   "metadata": {},
   "outputs": [
    {
     "data": {
      "text/plain": [
       "4"
      ]
     },
     "execution_count": 109,
     "metadata": {},
     "output_type": "execute_result"
    }
   ],
   "source": [
    "s = lambda x: x*x\n",
    "s(2)"
   ]
  },
  {
   "cell_type": "code",
   "execution_count": 111,
   "metadata": {},
   "outputs": [
    {
     "data": {
      "text/plain": [
       "6"
      ]
     },
     "execution_count": 111,
     "metadata": {},
     "output_type": "execute_result"
    }
   ],
   "source": [
    "s = lambda x,y,z: x + y + z\n",
    "s(1,2,3)"
   ]
  },
  {
   "cell_type": "code",
   "execution_count": 113,
   "metadata": {},
   "outputs": [
    {
     "data": {
      "text/plain": [
       "[1, 4, 9, 16]"
      ]
     },
     "execution_count": 113,
     "metadata": {},
     "output_type": "execute_result"
    }
   ],
   "source": [
    "s = lambda x: [i**2 for i in x]\n",
    "s([1,2,3,4])"
   ]
  },
  {
   "cell_type": "code",
   "execution_count": 6,
   "metadata": {},
   "outputs": [
    {
     "data": {
      "text/plain": [
       "[64, 64, 64, 64, 64]"
      ]
     },
     "execution_count": 6,
     "metadata": {},
     "output_type": "execute_result"
    }
   ],
   "source": [
    "s= lambda x,y,z: [x**z for i in y]\n",
    "s(2,[1,2,3,4,5], 6)"
   ]
  },
  {
   "cell_type": "code",
   "execution_count": 24,
   "metadata": {},
   "outputs": [
    {
     "data": {
      "text/plain": [
       "[8, 16, 24, 40]"
      ]
     },
     "execution_count": 24,
     "metadata": {},
     "output_type": "execute_result"
    }
   ],
   "source": [
    "s = lambda x: [i*8 for i in x]\n",
    "s([1,2,3,5])"
   ]
  },
  {
   "cell_type": "markdown",
   "metadata": {},
   "source": [
    "# Filter function filter(function, sequence)"
   ]
  },
  {
   "cell_type": "code",
   "execution_count": 45,
   "metadata": {},
   "outputs": [
    {
     "data": {
      "text/plain": [
       "[22, 54, 62]"
      ]
     },
     "execution_count": 45,
     "metadata": {},
     "output_type": "execute_result"
    }
   ],
   "source": [
    "li = [5, 7, 22, 97, 54, 62, 77, 23, 73, 61] \n",
    "\n",
    "def isEven(x):\n",
    "    return x % 2 == 0\n",
    "\n",
    "filtered_list = list(filter(isEven, li))\n",
    "filtered_list"
   ]
  },
  {
   "cell_type": "markdown",
   "metadata": {},
   "source": [
    "# Map function map(function, sequence)"
   ]
  },
  {
   "cell_type": "code",
   "execution_count": 50,
   "metadata": {},
   "outputs": [
    {
     "data": {
      "text/plain": [
       "[25, 49, 484, 9409, 2916, 3844, 5929, 529, 5329, 3721]"
      ]
     },
     "execution_count": 50,
     "metadata": {},
     "output_type": "execute_result"
    }
   ],
   "source": [
    "# apply a function to all the values in the sequence\n",
    "\n",
    "li = [5, 7, 22, 97, 54, 62, 77, 23, 73, 61] \n",
    "\n",
    "def isEven(x):\n",
    "    return x % 2 == 0\n",
    "\n",
    "mapped_list = list(map(lambda x: x ** 2, li))\n",
    "mapped_list\n"
   ]
  },
  {
   "cell_type": "code",
   "execution_count": 59,
   "metadata": {},
   "outputs": [
    {
     "data": {
      "text/plain": [
       "[30, 14, 110, 80]"
      ]
     },
     "execution_count": 59,
     "metadata": {},
     "output_type": "execute_result"
    }
   ],
   "source": [
    "l1 = [5, 7, 22, 10]\n",
    "l2 = [6, 2, 5, 8]\n",
    "\n",
    "mapped_list = list(map(lambda x, y: x * y, l1, l2))\n",
    "mapped_list"
   ]
  },
  {
   "cell_type": "code",
   "execution_count": 58,
   "metadata": {},
   "outputs": [
    {
     "data": {
      "text/plain": [
       "[30, 14, 110, 80]"
      ]
     },
     "execution_count": 58,
     "metadata": {},
     "output_type": "execute_result"
    }
   ],
   "source": [
    "l1 = [5, 7, 22, 10]\n",
    "l2 = [6, 2, 5, 8]\n",
    "\n",
    "def multiply(x,y):\n",
    "    return x * y\n",
    "\n",
    "mapped_list = list(map(multiply, l1, l2))\n",
    "mapped_list"
   ]
  },
  {
   "cell_type": "markdown",
   "metadata": {},
   "source": [
    "# Reduce function reduce(function, value)"
   ]
  },
  {
   "cell_type": "code",
   "execution_count": 79,
   "metadata": {},
   "outputs": [
    {
     "data": {
      "text/plain": [
       "10"
      ]
     },
     "execution_count": 79,
     "metadata": {},
     "output_type": "execute_result"
    }
   ],
   "source": [
    "# reduces the sequence into a single value\n",
    "\n",
    "from functools import reduce\n",
    "\n",
    "lst = [1, 2, 3, 4]\n",
    "\n",
    "s = reduce(lambda x, y : x + y, lst)\n",
    "s"
   ]
  },
  {
   "cell_type": "code",
   "execution_count": 76,
   "metadata": {},
   "outputs": [
    {
     "data": {
      "text/plain": [
       "10"
      ]
     },
     "execution_count": 76,
     "metadata": {},
     "output_type": "execute_result"
    }
   ],
   "source": [
    "from functools import reduce as r\n",
    "\n",
    "lst = [1, 2, 3, 4]\n",
    "def add(x):\n",
    "    total = 0\n",
    "    return total + x\n",
    "\n",
    "s = r(lambda x, y : x + y, lst)\n",
    "s"
   ]
  },
  {
   "cell_type": "code",
   "execution_count": 89,
   "metadata": {},
   "outputs": [
    {
     "name": "stdout",
     "output_type": "stream",
     "text": [
      "bro\n",
      "manohman\n"
     ]
    }
   ],
   "source": [
    "def outer():\n",
    "    print('bro')\n",
    "    def inner():\n",
    "        print('manohman')\n",
    "    return inner()\n",
    "s = outer()\n",
    "s"
   ]
  },
  {
   "cell_type": "markdown",
   "metadata": {},
   "source": [
    "# Generators : reponsible for generating sequence of values (yield)"
   ]
  },
  {
   "cell_type": "code",
   "execution_count": 93,
   "metadata": {},
   "outputs": [
    {
     "name": "stdout",
     "output_type": "stream",
     "text": [
      "True\n"
     ]
    }
   ],
   "source": [
    "def generateEven(n):\n",
    "    yield n % 2 == 0\n",
    "    \n",
    "s = generateEven(10)\n",
    "for i in s:\n",
    "    print(i)"
   ]
  },
  {
   "cell_type": "code",
   "execution_count": 2,
   "metadata": {},
   "outputs": [
    {
     "name": "stdout",
     "output_type": "stream",
     "text": [
      "0\n",
      "1\n",
      "1\n",
      "2\n",
      "3\n",
      "5\n",
      "8\n",
      "13\n",
      "21\n",
      "34\n"
     ]
    }
   ],
   "source": [
    "def fib(n):\n",
    "    a, b = 0, 1\n",
    "    i = 0\n",
    "    while i < n:\n",
    "        yield a \n",
    "        a , b = b , a + b\n",
    "        i += 1\n",
    "try :\n",
    "    for i in fib(10):\n",
    "        print(i)\n",
    "except:\n",
    "    print(\"value error\")\n",
    "    \n"
   ]
  },
  {
   "cell_type": "code",
   "execution_count": 1,
   "metadata": {},
   "outputs": [
    {
     "data": {
      "text/plain": [
       "[0, 1, 2, 3, 4, 5, 6, 7, 8, 9]"
      ]
     },
     "execution_count": 1,
     "metadata": {},
     "output_type": "execute_result"
    }
   ],
   "source": [
    "def countdown(n):\n",
    "    c = 0\n",
    "    while c < n:\n",
    "        yield c\n",
    "        c = c  + 1 \n",
    "lst = []      \n",
    "for i in countdown(10):\n",
    "    lst.append(i)\n",
    "lst"
   ]
  },
  {
   "cell_type": "code",
   "execution_count": null,
   "metadata": {},
   "outputs": [],
   "source": [
    " \n",
    "\n",
    "#-----------------------------------------------------------------\n",
    "\n",
    "\n",
    "\n",
    "#-----------------------------------------------------------------\n",
    "\n",
    "\n",
    "\n",
    "#-----------------------------------------------------------------\n",
    "\n",
    "Q Find the Nth Fibonacci number\n",
    "Example\n",
    "Input: 15\n",
    "Output: 610 \n",
    "\n",
    "#-----------------------------------------------------------------\n",
    "\n",
    "Q Find the Factorial of a number\n",
    "\n",
    "Example\n",
    "Input: 6\n",
    "Output: 720 \n",
    "\n",
    "#-----------------------------------------------------------------\n",
    "\n",
    "Q Find the missing number in a array of size n where numbers vary from 1 to n? \n",
    "Input:\n",
    "n = 5\n",
    "[3,1,5,?,2]\n",
    "Output: 4\n",
    "\n",
    "#-----------------------------------------------------------------\n",
    "\n",
    "Q Find the first repeating element in an array of integers?\n",
    "Input:  arr[] = {10, 5, 3, 4, 3, 5, 6}\n",
    "Output: 5 [5 is the first element that repeats]\n",
    "\n",
    "#-----------------------------------------------------------------\n",
    "\n",
    "Q If we list all the natural numbers below 10 that are multiples of 3 or 5, we get 3, 5, 6 and 9. \n",
    "The sum of these multiples is 23. Find the sum of all the multiples of 3 or 5 below 1000.\n",
    "\n",
    "#-----------------------------------------------------------------\n",
    "\n",
    "\n",
    "#-----------------------------------------------------------------\n",
    "\n",
    "Q Input the coins denomination from the user and the amount. \n",
    "Make a coin calculator which finds out the least number of coins \n",
    "required to compute an amount of money.\n",
    "\n",
    "Example\n",
    "Input:\n",
    "coins = [1,2,3,4,5]\n",
    "amount: 24\n",
    "24 = (4 X Rs. 5) + (1 X Rs. 3) + (0 X Rs. 2) + (1 X Rs. 1)\n",
    "\n",
    "Output:\n",
    "4 1 0 1\n",
    "\n",
    "#-----------------------------------------------------------------"
   ]
  },
  {
   "cell_type": "code",
   "execution_count": 28,
   "metadata": {},
   "outputs": [
    {
     "data": {
      "text/plain": [
       "True"
      ]
     },
     "execution_count": 28,
     "metadata": {},
     "output_type": "execute_result"
    }
   ],
   "source": [
    "# Q check if a given number is prime or not?\n",
    "def checkPrime(x):\n",
    "    temp = True\n",
    "    if x <= 1:\n",
    "        temp = False\n",
    "    for i in range(2,x):\n",
    "        if(x % i == 0):\n",
    "            temp = False\n",
    "    return temp\n",
    "\n",
    "checkPrime(5)"
   ]
  },
  {
   "cell_type": "code",
   "execution_count": 29,
   "metadata": {},
   "outputs": [
    {
     "data": {
      "text/plain": [
       "6"
      ]
     },
     "execution_count": 29,
     "metadata": {},
     "output_type": "execute_result"
    }
   ],
   "source": [
    "# Q Find the position of an number in a unsorted array.\n",
    "\n",
    "def findIndex(x, lst):\n",
    "    for i in lst:\n",
    "        if x == i:\n",
    "            return lst.index(i)\n",
    "        \n",
    "findIndex(1, [5,2,6,4,8,3,1,5,4,9])"
   ]
  },
  {
   "cell_type": "code",
   "execution_count": 36,
   "metadata": {},
   "outputs": [
    {
     "data": {
      "text/plain": [
       "610"
      ]
     },
     "execution_count": 36,
     "metadata": {},
     "output_type": "execute_result"
    }
   ],
   "source": [
    "# Q Find the Nth Fibonacci number\n",
    "# Example\n",
    "# Input: 15\n",
    "# Output: 610 \n",
    "\n",
    "def fib(n):\n",
    "    if n == 0:\n",
    "        return 0\n",
    "    if n == 1:\n",
    "        return 1\n",
    "    else:\n",
    "        return fib(n-1) + fib(n-2)\n",
    "fib(15)"
   ]
  },
  {
   "cell_type": "code",
   "execution_count": 49,
   "metadata": {},
   "outputs": [
    {
     "data": {
      "text/plain": [
       "720"
      ]
     },
     "execution_count": 49,
     "metadata": {},
     "output_type": "execute_result"
    }
   ],
   "source": [
    "#Q Find the Factorial of a number\n",
    "\n",
    "#Example\n",
    "#Input: 6\n",
    "#Output: 720 \n",
    "\n",
    "def fact(n):\n",
    "    if n == 0 or n == 1:\n",
    "        return 1\n",
    "    else:\n",
    "        return n * fact(n-1)\n",
    "\n",
    "fact(6)\n",
    "\n",
    "def fact1(n):\n",
    "    total = 1\n",
    "    for i in range(1, n+1):\n",
    "        total *= i\n",
    "    return total\n",
    "fact1(6)"
   ]
  },
  {
   "cell_type": "code",
   "execution_count": 68,
   "metadata": {},
   "outputs": [
    {
     "data": {
      "text/plain": [
       "4"
      ]
     },
     "execution_count": 68,
     "metadata": {},
     "output_type": "execute_result"
    }
   ],
   "source": [
    "#Q Find the missing number in a array of size n where numbers vary from 1 to n? \n",
    "#Input:\n",
    "#n = 5\n",
    "#[3,1,5,?,2]\n",
    "#Output: 4\n",
    "\n",
    "def find(lst):\n",
    "    s = len(lst)\n",
    "    total = sum(lst)\n",
    "    v = (s + 1) * (s + 2)/2\n",
    "    return int(v - total)\n",
    "    \n",
    "find([3,1,5,2])"
   ]
  },
  {
   "cell_type": "code",
   "execution_count": 118,
   "metadata": {},
   "outputs": [
    {
     "data": {
      "text/plain": [
       "5"
      ]
     },
     "execution_count": 118,
     "metadata": {},
     "output_type": "execute_result"
    }
   ],
   "source": [
    "# Q Find the first repeating element in an array of integers?\n",
    "# Input:  arr[] = {10, 5, 3, 4, 3, 5, 6}\n",
    "# Output: 5 [5 is the first element that repeats]\n",
    "\n",
    "def findRepeat(lst, t):\n",
    "    return [i for i in lst if lst.count(i) > 1][t]\n",
    "            \n",
    "findRepeat([1,5,2,3,4,5,5,2,3], 0)"
   ]
  },
  {
   "cell_type": "code",
   "execution_count": 124,
   "metadata": {},
   "outputs": [
    {
     "data": {
      "text/plain": [
       "233168"
      ]
     },
     "execution_count": 124,
     "metadata": {},
     "output_type": "execute_result"
    }
   ],
   "source": [
    "# Q If we list all the natural numbers below 10 that are multiples of 3 or 5, we get 3, 5, 6 and 9. \n",
    "# The sum of these multiples is 23. Find the sum of all the multiples of 3 or 5 below 1000.\n",
    "\n",
    "def find(n):\n",
    "    total = 0\n",
    "    for i in range(n):\n",
    "        if i % 3 == 0 or i % 5 == 0:\n",
    "            total = total + i\n",
    "    return total\n",
    "\n",
    "find(1000)"
   ]
  },
  {
   "cell_type": "code",
   "execution_count": 27,
   "metadata": {},
   "outputs": [
    {
     "data": {
      "text/plain": [
       "[101, 131, 151, 181, 191]"
      ]
     },
     "execution_count": 27,
     "metadata": {},
     "output_type": "execute_result"
    }
   ],
   "source": [
    "# Q Find first 5 prime palindromes numbers\n",
    "# Output: 101, 79197, 324423, etc \n",
    "def checkPrime(x):\n",
    "    temp = True\n",
    "    if x <= 1:\n",
    "        temp = False\n",
    "    for i in range(2,x):\n",
    "        if(x % i == 0):\n",
    "            temp = False\n",
    "    return temp\n",
    "\n",
    "def findPal(n):\n",
    "    lst = []\n",
    "    for i in range(n):\n",
    "        if str(i) == ''.join([j for j in reversed(str(i))]) and checkPrime(i) and len(str(i)) > 2:\n",
    "            lst.append(i)\n",
    "    return lst[:5]\n",
    "\n",
    "findPal(324424)"
   ]
  },
  {
   "cell_type": "code",
   "execution_count": 89,
   "metadata": {
    "code_folding": []
   },
   "outputs": [
    {
     "data": {
      "text/plain": [
       "{5: 4, 4: 1}"
      ]
     },
     "execution_count": 89,
     "metadata": {},
     "output_type": "execute_result"
    }
   ],
   "source": [
    "# Q Input the coins denomination from the user and the amount. \n",
    "# Make a coin calculator which finds out the least number of coins \n",
    "# required to compute an amount of money.\n",
    "\n",
    "# Example\n",
    "# Input:\n",
    "# coins = [1,2,3,4,5]\n",
    "# amount: 24\n",
    "# 24  = 5 * 4 + 4 * 1\n",
    "\n",
    "# Output:\n",
    "# 4 1 0 1\n",
    "\n",
    "def leastCoins(lst, x):\n",
    "    temp = []\n",
    "    if x == 0:\n",
    "        return 0\n",
    "    else:       \n",
    "        while x != 0:\n",
    "            if x % max(lst) == 0:\n",
    "                temp.append((max(lst), x//max(lst)))\n",
    "                x = 0\n",
    "            elif max(lst) < x:\n",
    "                temp.append((max(lst), x//max(lst)))\n",
    "                x = x % max(lst)\n",
    "                lst.remove(max(lst))\n",
    "            else:\n",
    "                lst.remove(max(lst))\n",
    "\n",
    "            \n",
    "    return dict(temp) \n",
    "    \n",
    "leastCoins([1,2,3,4,5], 24)"
   ]
  },
  {
   "cell_type": "markdown",
   "metadata": {},
   "source": [
    "# Assignment 5"
   ]
  },
  {
   "cell_type": "code",
   "execution_count": null,
   "metadata": {},
   "outputs": [],
   "source": [
    "Q Find Two Missing Numbers\n",
    "Given an array of n unique integers where each element \n",
    "in the array is in range [1, n]. The array has all \n",
    "distinct elements and size of array is (n-2). \n",
    "Hence Two numbers from the range are missing from this array. \n",
    "Find the two missing numbers.\n",
    "\n",
    "Input: arr = [1, 3, 5, 6]\n",
    "Output: 2 4\n",
    "Explaination: "
   ]
  },
  {
   "cell_type": "code",
   "execution_count": 71,
   "metadata": {},
   "outputs": [
    {
     "data": {
      "text/plain": [
       "(3, 15)"
      ]
     },
     "execution_count": 71,
     "metadata": {},
     "output_type": "execute_result"
    }
   ],
   "source": [
    "def findNums(lst):\n",
    "    s = len(lst) + 2\n",
    "    missing = int((s * (s + 1))/2) - sum(lst)\n",
    "    \n",
    "    for i in range(1,len(lst) + 3):\n",
    "        for j in range(1,len(lst) + 3):\n",
    "            if i not in lst and j not in lst and i + j == missing and i !=j:\n",
    "                return i,j\n",
    "    \n",
    "\n",
    "findNums([1,2,4,5,6,7,8,9,10,11,12,13,14,16])"
   ]
  },
  {
   "cell_type": "code",
   "execution_count": null,
   "metadata": {},
   "outputs": [],
   "source": [
    "Reverse an array in groups of given size\n",
    "\n",
    "Input: arr = [1, 2, 3, 4, 5, 6, 7, 8, 9]\n",
    "k = 3\n",
    "Output: [3, 2, 1, 6, 5, 4, 9, 8, 7]\n",
    "Explaination: Given an array, reverse every sub-array formed by \n",
    "consecutive k elements"
   ]
  },
  {
   "cell_type": "code",
   "execution_count": 77,
   "metadata": {},
   "outputs": [
    {
     "data": {
      "text/plain": [
       "[2, 1, 4, 3, 6, 5, 8, 7, 9]"
      ]
     },
     "execution_count": 77,
     "metadata": {},
     "output_type": "execute_result"
    }
   ],
   "source": [
    "from functools import reduce\n",
    "\n",
    "def reverseK(arr, k):\n",
    "    lst = []\n",
    "    n = 0\n",
    "    s = k\n",
    "    while n <= len(arr) :\n",
    "        lst.append([i for i in reversed(arr[n:k])])\n",
    "        n = k\n",
    "        k += s\n",
    "    return reduce(lambda x, y: x + y, lst)\n",
    "         \n",
    "reverseK([1, 2, 3, 4, 5, 6, 7, 8, 9], 2)"
   ]
  },
  {
   "cell_type": "code",
   "execution_count": 17,
   "metadata": {},
   "outputs": [
    {
     "data": {
      "text/plain": [
       "[[3, 2, 1]]"
      ]
     },
     "execution_count": 17,
     "metadata": {},
     "output_type": "execute_result"
    }
   ],
   "source": [
    "arr = [1, 2, 3, 4, 5, 6, 7, 8, 9]\n",
    "lst = []\n",
    "lst.append([i for i in reversed(arr[:3])])\n",
    "lst"
   ]
  },
  {
   "cell_type": "code",
   "execution_count": null,
   "metadata": {},
   "outputs": [],
   "source": [
    "Find all triplets in a sorted array that forms Geometric Progression\n",
    "Input: arr = [1, 2, 6, 10, 18, 54]\n",
    "Output: 2 6 18 and 6 18 54\n",
    "Explaination: "
   ]
  },
  {
   "cell_type": "code",
   "execution_count": 91,
   "metadata": {},
   "outputs": [
    {
     "data": {
      "text/plain": [
       "[{2, 6, 18}, {6, 18, 54}]"
      ]
     },
     "execution_count": 91,
     "metadata": {},
     "output_type": "execute_result"
    }
   ],
   "source": [
    "def findGP(arr):\n",
    "    temp = []\n",
    "    for i in arr:\n",
    "        for j in arr:\n",
    "            for k in arr:\n",
    "                if i/j == j/k  and arr.index(i) != arr.index(j) and arr.index(j) != arr.index(k):\n",
    "                    if set([i,j,k]) not in temp:\n",
    "                        temp.append(set([i,j,k]))\n",
    "    return temp\n",
    "\n",
    "                \n",
    "arr = [1, 2, 6, 10, 18, 54]\n",
    "findGP(arr)"
   ]
  },
  {
   "cell_type": "code",
   "execution_count": null,
   "metadata": {},
   "outputs": [],
   "source": [
    "Find if array can be divided into two subarrays of equal sum\n",
    "Input: arr = [6, 2, 3, 2, 1]\n",
    "Output: true\n",
    "Explaination: Given an array of integers, find if it’s possible\n",
    "to remove exactly one integer from the array that divides the array into two subarrays with the same sum."
   ]
  },
  {
   "cell_type": "code",
   "execution_count": 121,
   "metadata": {},
   "outputs": [
    {
     "name": "stdout",
     "output_type": "stream",
     "text": [
      "[1, 3, 4]\n",
      "4\n"
     ]
    },
    {
     "data": {
      "text/plain": [
       "True"
      ]
     },
     "execution_count": 121,
     "metadata": {},
     "output_type": "execute_result"
    }
   ],
   "source": [
    "def subArray(arr):\n",
    "    for i in range(len(arr)):\n",
    "        \n",
    "        value = arr[i]\n",
    "        index = i\n",
    "        arr.remove(arr[i])\n",
    "        temp = False\n",
    "        \n",
    "        if sum(arr) % 2 != 0 or len(arr) < 2:\n",
    "            temp = False\n",
    "        else:\n",
    "            ls = 0\n",
    "            for i in range(0, len(arr)):\n",
    "                ls += arr[i]\n",
    "                \n",
    "                rs = 0\n",
    "                for j in range(i + 1, len(arr)):\n",
    "                    rs += arr[j]\n",
    "                    \n",
    "                if ls == rs:\n",
    "                    print(arr)\n",
    "                    print(ls)\n",
    "                    return True\n",
    "                \n",
    "        arr.insert(index, value)\n",
    "    return temp\n",
    "\n",
    "arr = [1,2,3,4]\n",
    "subArray(arr)"
   ]
  },
  {
   "cell_type": "code",
   "execution_count": null,
   "metadata": {},
   "outputs": [],
   "source": [
    "Remove duplicates from an array of small primes\n",
    "Input: arr = {3, 5, 7, 2, 2, 5, 7, 7};\n",
    "Output: arr = {2, 3, 5, 7}\n",
    "Explaination: Given an array of primes such that the range of primes\n",
    "is small. Remove duplicates from the array."
   ]
  },
  {
   "cell_type": "code",
   "execution_count": 135,
   "metadata": {},
   "outputs": [
    {
     "data": {
      "text/plain": [
       "[2, 3, 5, 7]"
      ]
     },
     "execution_count": 135,
     "metadata": {},
     "output_type": "execute_result"
    }
   ],
   "source": [
    "def removeDuplicates(arr):\n",
    "    return list(set(arr))\n",
    "\n",
    "removeDuplicates([3, 5, 7, 2, 2, 5, 7, 7])"
   ]
  },
  {
   "cell_type": "code",
   "execution_count": null,
   "metadata": {},
   "outputs": [],
   "source": [
    "Given an array A[], write a function that segregates even \n",
    "and odd numbers.\n",
    "Input: {12, 34, 45, 9, 8, 90, 3}\n",
    "Output: {12, 34, 8, 90, 45, 9, 3} \n",
    "Explaination: It should put all even numbers first, then odd numbers."
   ]
  },
  {
   "cell_type": "code",
   "execution_count": 174,
   "metadata": {},
   "outputs": [
    {
     "data": {
      "text/plain": [
       "[2, 4, 6, 8, 8, 8, 4, 22, 1, 3, 5, 7, 9, 7, 9, 7, 55]"
      ]
     },
     "execution_count": 174,
     "metadata": {},
     "output_type": "execute_result"
    }
   ],
   "source": [
    "def separateNums(lst):\n",
    "    even = [i for i in lst if i % 2 == 0]\n",
    "    odd = [i for i in lst if i % 2 == 1]\n",
    "    return even + odd\n",
    "\n",
    "separateNums([1,2,3,4,5,6,7,8,9,7,8,9,8,7,4,55,22])"
   ]
  },
  {
   "cell_type": "code",
   "execution_count": null,
   "metadata": {},
   "outputs": [],
   "source": [
    "Find a triplet that sum to a given value\n",
    "Input: {12, 3, 4, 1, 6, 9} , sum =24\n",
    "Output: True\n",
    "Explaination:  find if there is a triplet in array whose sum is \n",
    "equal to the given value. If there is such a triplet present in \n",
    "array, then print the triplet and return true. Else return false. "
   ]
  },
  {
   "cell_type": "code",
   "execution_count": 71,
   "metadata": {},
   "outputs": [
    {
     "name": "stdout",
     "output_type": "stream",
     "text": [
      "[{9, 3, 12}]\n"
     ]
    },
    {
     "data": {
      "text/plain": [
       "True"
      ]
     },
     "execution_count": 71,
     "metadata": {},
     "output_type": "execute_result"
    }
   ],
   "source": [
    "def findTrip(arr, x):\n",
    "    lst = []\n",
    "    temp = False\n",
    "    for i in arr:\n",
    "        for j in arr:\n",
    "            for k in arr:\n",
    "                if i + j + k == x and arr.index(i) != arr.index(j) and arr.index(j) != arr.index(k) and arr.index(i) != arr.index(k):\n",
    "                    if {i,j,k} not in lst:\n",
    "                        lst.append(set([i,j,k]))\n",
    "                        print(lst)\n",
    "                    temp = True\n",
    "    return temp\n",
    "x = 24\n",
    "arr = [12, 3, 4, 1, 6, 9]\n",
    "findTrip(arr, x)        "
   ]
  },
  {
   "cell_type": "code",
   "execution_count": null,
   "metadata": {},
   "outputs": [],
   "source": [
    "Given an array and a number x, find if there is a pair with \n",
    "product equal to x.\n",
    "Input: arr = {10, 20, 9, 40}, x = 400;\n",
    "Output: Yes\n",
    "Explaination:"
   ]
  },
  {
   "cell_type": "code",
   "execution_count": 204,
   "metadata": {},
   "outputs": [
    {
     "data": {
      "text/plain": [
       "True"
      ]
     },
     "execution_count": 204,
     "metadata": {},
     "output_type": "execute_result"
    }
   ],
   "source": [
    "def findMul(arr, x):\n",
    "    temp = False\n",
    "    for i in arr:\n",
    "        if x/i in arr and arr.index(i) != arr.index(x/i) or arr.count(x/i) > 1:\n",
    "            temp = True\n",
    "    return temp\n",
    "\n",
    "findMul([10, 20, 2, 4, 10, 25], 250)"
   ]
  },
  {
   "cell_type": "code",
   "execution_count": null,
   "metadata": {},
   "outputs": [],
   "source": [
    "Given an array of integers, and a number ‘sum’, find the number\n",
    " of pairs of integers in the array whose sum is equal to ‘sum’.\n",
    "Input: arr = {1, 5, 7, -1}, sum = 6\n",
    "Output: 2 (Pairs with sum 6 are (1, 5) and (7, -1))\n",
    "Explaination:"
   ]
  },
  {
   "cell_type": "code",
   "execution_count": 98,
   "metadata": {},
   "outputs": [
    {
     "data": {
      "text/plain": [
       "[{-1, 1}]"
      ]
     },
     "execution_count": 98,
     "metadata": {},
     "output_type": "execute_result"
    }
   ],
   "source": [
    "def findAdd(arr, x):\n",
    "    temp = []\n",
    "    for i in arr:\n",
    "        if x - i in arr and arr.index(i) != arr.index(x - i) or arr.count(x - i) > 1:\n",
    "            if set([i, x - i]) not in temp:\n",
    "                temp.append(set([i, x - i]))\n",
    "    return temp\n",
    "\n",
    "findAdd([7, -1, 6, 0, 8, 1], 0)"
   ]
  },
  {
   "cell_type": "code",
   "execution_count": null,
   "metadata": {},
   "outputs": [],
   "source": [
    "Given heights of n towers and a value k. We need to either \n",
    "increase or decrease height of every tower by k (only once) \n",
    "where k > 0. The task is to minimize the difference between \n",
    "the heights of the longest and the shortest tower after modifications, \n",
    "and output this difference.\n",
    "\n",
    "Input: arr = {1, 15, 10}, k = 6\n",
    "Output: arr = {7, 9, 4}, Maximum difference is 5.\n",
    "Explaination: We change 1 to 6, 15 to 9 and 10 to 4. Max diff is 5\n",
    "(between 4 and 9). We cannot get a lowerdifference."
   ]
  },
  {
   "cell_type": "code",
   "execution_count": 220,
   "metadata": {},
   "outputs": [
    {
     "data": {
      "text/plain": [
       "5"
      ]
     },
     "execution_count": 220,
     "metadata": {},
     "output_type": "execute_result"
    }
   ],
   "source": [
    "arr = [1,15,10]\n",
    "k = 6\n",
    "\n",
    "def findMinDiff(arr, k): \n",
    "    n = len(arr)\n",
    "    if (n == 1): \n",
    "        return 0\n",
    "   \n",
    "    arr.sort()  \n",
    "  \n",
    "    ans = arr[n-1] - arr[0]  \n",
    "  \n",
    "    small = arr[0] + k  \n",
    "    big = arr[n-1] - k  \n",
    "      \n",
    "    if (small > big): \n",
    "        small, big = big, small  \n",
    "   \n",
    "    for i in range(1, n-1): \n",
    "      \n",
    "        subtract = arr[i] - k  \n",
    "        add = arr[i] + k  \n",
    "   \n",
    "        if (big - subtract <= add - small): \n",
    "            small = subtract  \n",
    "        else: \n",
    "            big = add  \n",
    "      \n",
    "    return min(ans, big - small)  \n",
    "  \n",
    "findMinDiff(arr,k)"
   ]
  },
  {
   "cell_type": "code",
   "execution_count": null,
   "metadata": {},
   "outputs": [],
   "source": []
  },
  {
   "cell_type": "code",
   "execution_count": 151,
   "metadata": {},
   "outputs": [
    {
     "data": {
      "text/plain": [
       "14"
      ]
     },
     "execution_count": 151,
     "metadata": {},
     "output_type": "execute_result"
    }
   ],
   "source": [
    "arr = [1, 15, 10]\n",
    "arr.sort()\n",
    "max(arr) - min(arr)\n",
    "\n",
    "for i in arr:\n",
    "    lef = "
   ]
  },
  {
   "cell_type": "code",
   "execution_count": 131,
   "metadata": {},
   "outputs": [
    {
     "data": {
      "text/plain": [
       "['__doc__',\n",
       " '__loader__',\n",
       " '__name__',\n",
       " '__package__',\n",
       " '__spec__',\n",
       " 'acos',\n",
       " 'acosh',\n",
       " 'asin',\n",
       " 'asinh',\n",
       " 'atan',\n",
       " 'atan2',\n",
       " 'atanh',\n",
       " 'ceil',\n",
       " 'copysign',\n",
       " 'cos',\n",
       " 'cosh',\n",
       " 'degrees',\n",
       " 'e',\n",
       " 'erf',\n",
       " 'erfc',\n",
       " 'exp',\n",
       " 'expm1',\n",
       " 'fabs',\n",
       " 'factorial',\n",
       " 'floor',\n",
       " 'fmod',\n",
       " 'frexp',\n",
       " 'fsum',\n",
       " 'gamma',\n",
       " 'gcd',\n",
       " 'hypot',\n",
       " 'inf',\n",
       " 'isclose',\n",
       " 'isfinite',\n",
       " 'isinf',\n",
       " 'isnan',\n",
       " 'ldexp',\n",
       " 'lgamma',\n",
       " 'log',\n",
       " 'log10',\n",
       " 'log1p',\n",
       " 'log2',\n",
       " 'modf',\n",
       " 'nan',\n",
       " 'pi',\n",
       " 'pow',\n",
       " 'radians',\n",
       " 'sin',\n",
       " 'sinh',\n",
       " 'sqrt',\n",
       " 'tan',\n",
       " 'tanh',\n",
       " 'tau',\n",
       " 'trunc']"
      ]
     },
     "execution_count": 131,
     "metadata": {},
     "output_type": "execute_result"
    }
   ],
   "source": [
    "import math\n",
    "dir(math)"
   ]
  },
  {
   "cell_type": "markdown",
   "metadata": {},
   "source": [
    "# Erro Handling and Exceptions"
   ]
  },
  {
   "cell_type": "code",
   "execution_count": 66,
   "metadata": {},
   "outputs": [
    {
     "name": "stdout",
     "output_type": "stream",
     "text": [
      "Cannot divide by zero:  division by zero\n",
      "what up yo\n"
     ]
    }
   ],
   "source": [
    "import pandas as pd\n",
    "\n",
    "try: \n",
    "    x = 9/0\n",
    "    df = pd.read_csv('hello.csv')\n",
    "    \n",
    "    \n",
    "except FileNotFoundError as msg:\n",
    "    print('File not found in the given path: ', msg)\n",
    "\n",
    "except ZeroDivisionError as msg:\n",
    "    print('Cannot divide by zero: ', msg)\n",
    "    \n",
    "except: # default exception block\n",
    "    print('Default: something wrong in try block')\n",
    "    \n",
    "finally:\n",
    "    print('what up yo')"
   ]
  },
  {
   "cell_type": "markdown",
   "metadata": {},
   "source": [
    "# Classes and Inheritance"
   ]
  },
  {
   "cell_type": "code",
   "execution_count": 140,
   "metadata": {},
   "outputs": [
    {
     "name": "stdout",
     "output_type": "stream",
     "text": [
      "True\n",
      "False\n",
      "Constructing\n"
     ]
    }
   ],
   "source": [
    "class Building(object):\n",
    "    \"\"\"Building class\"\"\"\n",
    "    def __init__(self, floors, rooms):\n",
    "        self.floors = floors\n",
    "        self.rooms = rooms\n",
    "        \n",
    "        self.color = \"blue\"\n",
    "        self.standing = True\n",
    "        \n",
    "    def destroy(self):\n",
    "        self.standing = False\n",
    "        del self.floors\n",
    "        del self.rooms\n",
    "        \n",
    "    def build():\n",
    "        print(\"Constructing\")\n",
    "        \n",
    "\n",
    "building1 = Building(3, 60)\n",
    "print(building1.standing)\n",
    "building1.destroy()\n",
    "print(building1.standing)\n",
    "building1.color\n",
    "Building.build() # static method "
   ]
  },
  {
   "cell_type": "code",
   "execution_count": 145,
   "metadata": {},
   "outputs": [
    {
     "name": "stdout",
     "output_type": "stream",
     "text": [
      "Child bro\n",
      "Fuel tank is full.\n"
     ]
    }
   ],
   "source": [
    "# class with multiple inheritance\n",
    "class House(Building, Car):\n",
    "    \"\"\"Child class of the Building parent\"\"\"\n",
    "    def __init__(self, floors, rooms, color, garage, fuel_capacity):\n",
    "        Building.__init__(self, floors, rooms)\n",
    "        self.color = color\n",
    "        self.garage = garage\n",
    "        self.fuel_capacity = fuel_capacity\n",
    "    \n",
    "    def who(self):\n",
    "        print(\"Child bro\")\n",
    "    \n",
    "\n",
    "h = House(1,5,\"Black\", True, 25)\n",
    "#House.who() # if the def who() is empty\n",
    "h.who()\n",
    "h.color\n",
    "h.fill_tank()"
   ]
  },
  {
   "cell_type": "code",
   "execution_count": 256,
   "metadata": {},
   "outputs": [],
   "source": [
    "class Car():\n",
    "     value = 5000\n",
    "     \"\"\"A simple attempt to model a car.\"\"\"\n",
    "     def __init__(self, make, model, year):\n",
    "         \"\"\"Initialize car attributes.\"\"\"\n",
    "         self.make = make\n",
    "         self.model = model\n",
    "         self.year = year\n",
    "         # Fuel capacity and level in gallons.\n",
    "         self.fuel_capacity = 15\n",
    "         self.fuel_level = 0\n",
    "         Car.value -=100\n",
    "            \n",
    "     def fill_tank(self):\n",
    "         \"\"\"Fill gas tank to capacity.\"\"\"\n",
    "         self.fuel_level = self.fuel_capacity\n",
    "         print(\"Fuel tank is full.\")\n",
    "            \n",
    "     @classmethod\n",
    "     def reduceValue(cls):\n",
    "            cls.value -= 1000\n",
    "            return cls.value\n",
    "        \n",
    "     @staticmethod\n",
    "     def whatnot():\n",
    "        print('chill bro')\n",
    "\n",
    "     def drive(self):\n",
    "         \"\"\"Simulate driving.\"\"\"\n",
    "         print(\"The car is moving.\")"
   ]
  },
  {
   "cell_type": "code",
   "execution_count": 254,
   "metadata": {},
   "outputs": [
    {
     "data": {
      "text/plain": [
       "4000"
      ]
     },
     "execution_count": 254,
     "metadata": {},
     "output_type": "execute_result"
    }
   ],
   "source": [
    "Car.reduceValue()"
   ]
  },
  {
   "cell_type": "code",
   "execution_count": 257,
   "metadata": {},
   "outputs": [
    {
     "name": "stdout",
     "output_type": "stream",
     "text": [
      "chill bro\n"
     ]
    }
   ],
   "source": [
    "Car.whatnot()"
   ]
  },
  {
   "cell_type": "code",
   "execution_count": 227,
   "metadata": {},
   "outputs": [
    {
     "name": "stdout",
     "output_type": "stream",
     "text": [
      "Fuel tank is full.\n"
     ]
    }
   ],
   "source": [
    "car_gas = Car('honda', 'civic', 2016)\n",
    "car_gas.fill_tank()"
   ]
  },
  {
   "cell_type": "code",
   "execution_count": 5,
   "metadata": {},
   "outputs": [
    {
     "name": "stdout",
     "output_type": "stream",
     "text": [
      "The car is moving.\n"
     ]
    }
   ],
   "source": [
    "car_gas.drive()"
   ]
  },
  {
   "cell_type": "markdown",
   "metadata": {},
   "source": [
    "# JSON in python"
   ]
  },
  {
   "cell_type": "code",
   "execution_count": 1,
   "metadata": {},
   "outputs": [
    {
     "data": {
      "text/plain": [
       "'[1, 2, 3, 4, 5, 6]'"
      ]
     },
     "execution_count": 1,
     "metadata": {},
     "output_type": "execute_result"
    }
   ],
   "source": [
    "import json as j\n",
    "\n",
    "lst = [1,2,3,4,5,6]\n",
    "jsonLst = j.dumps(lst)\n",
    "type(jsonLst)\n",
    "jsonLst"
   ]
  },
  {
   "cell_type": "code",
   "execution_count": 2,
   "metadata": {},
   "outputs": [
    {
     "data": {
      "text/plain": [
       "'{\"name\": \"John\", \"age\": 30, \"married\": true, \"divorced\": false, \"children\": [\"Ann\", \"Billy\"], \"pets\": null, \"cars\": [{\"model\": \"BMW 230\", \"mpg\": 27.5}, {\"model\": \"Ford Edge\", \"mpg\": 24.1}]}'"
      ]
     },
     "execution_count": 2,
     "metadata": {},
     "output_type": "execute_result"
    }
   ],
   "source": [
    "import json\n",
    "\n",
    "x = {\n",
    "  \"name\": \"John\",\n",
    "  \"age\": 30,\n",
    "  \"married\": True,\n",
    "  \"divorced\": False,\n",
    "  \"children\": (\"Ann\",\"Billy\"),\n",
    "  \"pets\": None,\n",
    "  \"cars\": [\n",
    "    {\"model\": \"BMW 230\", \"mpg\": 27.5},\n",
    "    {\"model\": \"Ford Edge\", \"mpg\": 24.1}\n",
    "  ]\n",
    "}\n",
    "\n",
    "s = json.dumps(x)\n",
    "type(s)\n",
    "s"
   ]
  },
  {
   "cell_type": "markdown",
   "metadata": {},
   "source": [
    "# Numpy"
   ]
  },
  {
   "cell_type": "code",
   "execution_count": 9,
   "metadata": {},
   "outputs": [
    {
     "data": {
      "text/plain": [
       "array([ 1,  4,  9, 16, 25])"
      ]
     },
     "execution_count": 9,
     "metadata": {},
     "output_type": "execute_result"
    }
   ],
   "source": [
    "import numpy as np\n",
    "\n",
    "arr = np.array([1,2,3,4,5])\n",
    "\n",
    "for i in range(len(arr)):\n",
    "    arr[i] = arr[i] ** 2\n",
    "\n",
    "arr"
   ]
  },
  {
   "cell_type": "code",
   "execution_count": 17,
   "metadata": {},
   "outputs": [
    {
     "data": {
      "text/plain": [
       "array([[1, 2, 3, 4],\n",
       "       [5, 6, 7, 8]])"
      ]
     },
     "execution_count": 17,
     "metadata": {},
     "output_type": "execute_result"
    }
   ],
   "source": [
    "arr = np.array(([1,2,3,4], [5,6,7,8]), dtype = int)\n",
    "arr"
   ]
  },
  {
   "cell_type": "code",
   "execution_count": 29,
   "metadata": {},
   "outputs": [
    {
     "data": {
      "text/plain": [
       "array([[0, 0, 0, 0, 0],\n",
       "       [0, 0, 0, 0, 0]])"
      ]
     },
     "execution_count": 29,
     "metadata": {},
     "output_type": "execute_result"
    }
   ],
   "source": [
    "# create an array of zeros\n",
    "\n",
    "np.zeros((2, 5), dtype = int)"
   ]
  },
  {
   "cell_type": "code",
   "execution_count": 37,
   "metadata": {},
   "outputs": [
    {
     "data": {
      "text/plain": [
       "array([[1., 1., 1., 1., 1.],\n",
       "       [1., 1., 1., 1., 1.]])"
      ]
     },
     "execution_count": 37,
     "metadata": {},
     "output_type": "execute_result"
    }
   ],
   "source": [
    "# create an array of zeros\n",
    "\n",
    "arr = np.ones((2,5), dtype = float)\n",
    "arr"
   ]
  },
  {
   "cell_type": "code",
   "execution_count": 40,
   "metadata": {},
   "outputs": [
    {
     "data": {
      "text/plain": [
       "array([10, 12, 14, 16, 18, 20, 22, 24])"
      ]
     },
     "execution_count": 40,
     "metadata": {},
     "output_type": "execute_result"
    }
   ],
   "source": [
    "# create an array of evenly spaced values (step values)\n",
    "# or array in a particular range\n",
    "\n",
    "# array in range 10 to n-1 = 24,  \n",
    "np.arange(10,25)\n",
    "np.arange(10,25,2)"
   ]
  },
  {
   "cell_type": "code",
   "execution_count": 53,
   "metadata": {},
   "outputs": [
    {
     "data": {
      "text/plain": [
       "array([0.  , 0.25, 0.5 , 0.75, 1.  , 1.25, 1.5 , 1.75, 2.  ])"
      ]
     },
     "execution_count": 53,
     "metadata": {},
     "output_type": "execute_result"
    }
   ],
   "source": [
    "# Create an array of evenly spaced values (number of samples)\n",
    "\n",
    "np.linspace(0,2,9)"
   ]
  },
  {
   "cell_type": "code",
   "execution_count": 60,
   "metadata": {},
   "outputs": [
    {
     "data": {
      "text/plain": [
       "array([[25, 25],\n",
       "       [25, 25]])"
      ]
     },
     "execution_count": 60,
     "metadata": {},
     "output_type": "execute_result"
    }
   ],
   "source": [
    "# create a constant array\n",
    "s = np.full((2,2), 25)\n",
    "s"
   ]
  },
  {
   "cell_type": "code",
   "execution_count": 63,
   "metadata": {},
   "outputs": [
    {
     "data": {
      "text/plain": [
       "array([[1, 0, 0, 0, 0],\n",
       "       [0, 1, 0, 0, 0],\n",
       "       [0, 0, 1, 0, 0],\n",
       "       [0, 0, 0, 1, 0],\n",
       "       [0, 0, 0, 0, 1]])"
      ]
     },
     "execution_count": 63,
     "metadata": {},
     "output_type": "execute_result"
    }
   ],
   "source": [
    "# Identity matrix\n",
    "\n",
    "np.eye(5,5, dtype= int)"
   ]
  },
  {
   "cell_type": "code",
   "execution_count": 79,
   "metadata": {},
   "outputs": [
    {
     "data": {
      "text/plain": [
       "array([[0.93360394, 0.27003117],\n",
       "       [0.72944558, 0.50109272]])"
      ]
     },
     "execution_count": 79,
     "metadata": {},
     "output_type": "execute_result"
    }
   ],
   "source": [
    "# array with random values\n",
    "\n",
    "np.random.random((2, 2))"
   ]
  },
  {
   "cell_type": "code",
   "execution_count": 89,
   "metadata": {},
   "outputs": [],
   "source": [
    "# empty array\n",
    "\n",
    "s = np.empty((3,3))"
   ]
  },
  {
   "cell_type": "code",
   "execution_count": 95,
   "metadata": {},
   "outputs": [],
   "source": [
    "#  Saving and Loading numpy arrays on disk\n",
    "\n",
    "arr = np.arange(1,50)\n",
    "arr2 = np.arange(50,100)\n",
    "\n",
    "np.save('arr', arr)"
   ]
  },
  {
   "cell_type": "code",
   "execution_count": 109,
   "metadata": {},
   "outputs": [
    {
     "data": {
      "text/plain": [
       "array([ 1,  2,  3,  4,  5,  6,  7,  8,  9, 10, 11, 12, 13, 14, 15, 16, 17,\n",
       "       18, 19, 20, 21, 22, 23, 24, 25, 26, 27, 28, 29, 30, 31, 32, 33, 34,\n",
       "       35, 36, 37, 38, 39, 40, 41, 42, 43, 44, 45, 46, 47, 48, 49])"
      ]
     },
     "execution_count": 109,
     "metadata": {},
     "output_type": "execute_result"
    }
   ],
   "source": [
    "np.load('arr.npy')"
   ]
  },
  {
   "cell_type": "code",
   "execution_count": 98,
   "metadata": {},
   "outputs": [],
   "source": [
    "np.savez('array.npz', arr, arr2)"
   ]
  },
  {
   "cell_type": "code",
   "execution_count": 100,
   "metadata": {},
   "outputs": [
    {
     "data": {
      "text/plain": [
       "<numpy.lib.npyio.NpzFile at 0x20012176f98>"
      ]
     },
     "execution_count": 100,
     "metadata": {},
     "output_type": "execute_result"
    }
   ],
   "source": [
    "np.load('array.npz')"
   ]
  },
  {
   "cell_type": "code",
   "execution_count": 103,
   "metadata": {},
   "outputs": [
    {
     "data": {
      "text/plain": [
       "array(['Hello', 'mah', 'man'], dtype='<U5')"
      ]
     },
     "execution_count": 103,
     "metadata": {},
     "output_type": "execute_result"
    }
   ],
   "source": [
    "# loading text files and other kinds of files \n",
    "np.loadtxt('s.txt',  dtype = str)"
   ]
  },
  {
   "cell_type": "code",
   "execution_count": 107,
   "metadata": {},
   "outputs": [
    {
     "data": {
      "text/plain": [
       "array([1., 2., 3., 4., 5., 6.])"
      ]
     },
     "execution_count": 107,
     "metadata": {},
     "output_type": "execute_result"
    }
   ],
   "source": [
    "np.genfromtxt(\"s.csv\", delimiter=',')"
   ]
  },
  {
   "cell_type": "code",
   "execution_count": 112,
   "metadata": {},
   "outputs": [],
   "source": [
    "arr = np.array([1,2,3,4,5]) \n",
    "np.savetxt(\"myarray.txt\", arr, delimiter=\" \")"
   ]
  },
  {
   "cell_type": "code",
   "execution_count": 131,
   "metadata": {},
   "outputs": [
    {
     "data": {
      "text/plain": [
       "(2, 2, 3)"
      ]
     },
     "execution_count": 131,
     "metadata": {},
     "output_type": "execute_result"
    }
   ],
   "source": [
    "arr = np.array(([[(1.5,2,3), (4,5,6)], [(3,2,1), (4,5,6)]]))\n",
    "arr.shape"
   ]
  },
  {
   "cell_type": "code",
   "execution_count": 132,
   "metadata": {},
   "outputs": [
    {
     "data": {
      "text/plain": [
       "2"
      ]
     },
     "execution_count": 132,
     "metadata": {},
     "output_type": "execute_result"
    }
   ],
   "source": [
    "len(arr)"
   ]
  },
  {
   "cell_type": "code",
   "execution_count": 133,
   "metadata": {},
   "outputs": [
    {
     "data": {
      "text/plain": [
       "3"
      ]
     },
     "execution_count": 133,
     "metadata": {},
     "output_type": "execute_result"
    }
   ],
   "source": [
    "arr.ndim"
   ]
  },
  {
   "cell_type": "code",
   "execution_count": 134,
   "metadata": {},
   "outputs": [
    {
     "data": {
      "text/plain": [
       "12"
      ]
     },
     "execution_count": 134,
     "metadata": {},
     "output_type": "execute_result"
    }
   ],
   "source": [
    "arr.size # number of elements in the array"
   ]
  },
  {
   "cell_type": "code",
   "execution_count": 137,
   "metadata": {},
   "outputs": [
    {
     "data": {
      "text/plain": [
       "dtype('float64')"
      ]
     },
     "execution_count": 137,
     "metadata": {},
     "output_type": "execute_result"
    }
   ],
   "source": [
    "arr.dtype.name # get array datatype\n",
    "arr.dtype"
   ]
  },
  {
   "cell_type": "code",
   "execution_count": 141,
   "metadata": {},
   "outputs": [
    {
     "data": {
      "text/plain": [
       "array([[['1.5', '2.0', '3.0'],\n",
       "        ['4.0', '5.0', '6.0']],\n",
       "\n",
       "       [['3.0', '2.0', '1.0'],\n",
       "        ['4.0', '5.0', '6.0']]], dtype='<U32')"
      ]
     },
     "execution_count": 141,
     "metadata": {},
     "output_type": "execute_result"
    }
   ],
   "source": [
    "arr.astype(str) # convert array data type"
   ]
  },
  {
   "cell_type": "code",
   "execution_count": 146,
   "metadata": {},
   "outputs": [
    {
     "name": "stdout",
     "output_type": "stream",
     "text": [
      "NumPy\n",
      "=====\n",
      "\n",
      "Provides\n",
      "  1. An array object of arbitrary homogeneous items\n",
      "  2. Fast mathematical operations over arrays\n",
      "  3. Linear Algebra, Fourier Transforms, Random Number Generation\n",
      "\n",
      "How to use the documentation\n",
      "----------------------------\n",
      "Documentation is available in two forms: docstrings provided\n",
      "with the code, and a loose standing reference guide, available from\n",
      "`the NumPy homepage <https://www.scipy.org>`_.\n",
      "\n",
      "We recommend exploring the docstrings using\n",
      "`IPython <https://ipython.org>`_, an advanced Python shell with\n",
      "TAB-completion and introspection capabilities.  See below for further\n",
      "instructions.\n",
      "\n",
      "The docstring examples assume that `numpy` has been imported as `np`::\n",
      "\n",
      "  >>> import numpy as np\n",
      "\n",
      "Code snippets are indicated by three greater-than signs::\n",
      "\n",
      "  >>> x = 42\n",
      "  >>> x = x + 1\n",
      "\n",
      "Use the built-in ``help`` function to view a function's docstring::\n",
      "\n",
      "  >>> help(np.sort)\n",
      "  ... # doctest: +SKIP\n",
      "\n",
      "For some objects, ``np.info(obj)`` may provide additional help.  This is\n",
      "particularly true if you see the line \"Help on ufunc object:\" at the top\n",
      "of the help() page.  Ufuncs are implemented in C, not Python, for speed.\n",
      "The native Python help() does not know how to view their help, but our\n",
      "np.info() function does.\n",
      "\n",
      "To search for documents containing a keyword, do::\n",
      "\n",
      "  >>> np.lookfor('keyword')\n",
      "  ... # doctest: +SKIP\n",
      "\n",
      "General-purpose documents like a glossary and help on the basic concepts\n",
      "of numpy are available under the ``doc`` sub-module::\n",
      "\n",
      "  >>> from numpy import doc\n",
      "  >>> help(doc)\n",
      "  ... # doctest: +SKIP\n",
      "\n",
      "Available subpackages\n",
      "---------------------\n",
      "doc\n",
      "    Topical documentation on broadcasting, indexing, etc.\n",
      "lib\n",
      "    Basic functions used by several sub-packages.\n",
      "random\n",
      "    Core Random Tools\n",
      "linalg\n",
      "    Core Linear Algebra Tools\n",
      "fft\n",
      "    Core FFT routines\n",
      "polynomial\n",
      "    Polynomial tools\n",
      "testing\n",
      "    NumPy testing tools\n",
      "f2py\n",
      "    Fortran to Python Interface Generator.\n",
      "distutils\n",
      "    Enhancements to distutils with support for\n",
      "    Fortran compilers support and more.\n",
      "\n",
      "Utilities\n",
      "---------\n",
      "test\n",
      "    Run numpy unittests\n",
      "show_config\n",
      "    Show numpy build configuration\n",
      "dual\n",
      "    Overwrite certain functions with high-performance Scipy tools\n",
      "matlib\n",
      "    Make everything matrices.\n",
      "__version__\n",
      "    NumPy version string\n",
      "\n",
      "Viewing documentation using IPython\n",
      "-----------------------------------\n",
      "Start IPython with the NumPy profile (``ipython -p numpy``), which will\n",
      "import `numpy` under the alias `np`.  Then, use the ``cpaste`` command to\n",
      "paste examples into the shell.  To see which functions are available in\n",
      "`numpy`, type ``np.<TAB>`` (where ``<TAB>`` refers to the TAB key), or use\n",
      "``np.*cos*?<ENTER>`` (where ``<ENTER>`` refers to the ENTER key) to narrow\n",
      "down the list.  To view the docstring for a function, use\n",
      "``np.cos?<ENTER>`` (to view the docstring) and ``np.cos??<ENTER>`` (to view\n",
      "the source code).\n",
      "\n",
      "Copies vs. in-place operation\n",
      "-----------------------------\n",
      "Most of the functions in `numpy` return a copy of the array argument\n",
      "(e.g., `np.sort`).  In-place versions of these functions are often\n",
      "available as array methods, i.e. ``x = np.array([1,2,3]); x.sort()``.\n",
      "Exceptions to this rule are documented.\n"
     ]
    }
   ],
   "source": [
    "# for help with numpy\n",
    "np.info(np)"
   ]
  },
  {
   "cell_type": "code",
   "execution_count": 200,
   "metadata": {},
   "outputs": [
    {
     "data": {
      "text/plain": [
       "array([5, 5, 5, 5, 5])"
      ]
     },
     "execution_count": 200,
     "metadata": {},
     "output_type": "execute_result"
    }
   ],
   "source": [
    "a = np.array([1,2,3,4,5])\n",
    "b = np.array([6,7,8,9,10])\n",
    "a - b\n",
    "np.subtract(b,a)"
   ]
  },
  {
   "cell_type": "code",
   "execution_count": 166,
   "metadata": {},
   "outputs": [
    {
     "name": "stdout",
     "output_type": "stream",
     "text": [
      "(2, 4)\n",
      "(4,)\n"
     ]
    }
   ],
   "source": [
    "print(a.shape)\n",
    "print(b.shape)"
   ]
  },
  {
   "cell_type": "code",
   "execution_count": 160,
   "metadata": {},
   "outputs": [
    {
     "data": {
      "text/plain": [
       "array([[10, 10, 10, 10],\n",
       "       [10, 10, 10, 10]])"
      ]
     },
     "execution_count": 160,
     "metadata": {},
     "output_type": "execute_result"
    }
   ],
   "source": [
    "a + b\n",
    "np.add(a,b)"
   ]
  },
  {
   "cell_type": "code",
   "execution_count": 161,
   "metadata": {},
   "outputs": [
    {
     "data": {
      "text/plain": [
       "array([[0.11111111, 0.25      , 0.42857143, 0.66666667],\n",
       "       [0.11111111, 0.25      , 0.42857143, 0.66666667]])"
      ]
     },
     "execution_count": 161,
     "metadata": {},
     "output_type": "execute_result"
    }
   ],
   "source": [
    "b/a\n",
    "np.divide(a,b)"
   ]
  },
  {
   "cell_type": "code",
   "execution_count": 168,
   "metadata": {},
   "outputs": [
    {
     "data": {
      "text/plain": [
       "array([[ 9, 16, 21, 24],\n",
       "       [ 9, 16, 21, 24]])"
      ]
     },
     "execution_count": 168,
     "metadata": {},
     "output_type": "execute_result"
    }
   ],
   "source": [
    "a * b\n",
    "np.multiply(a,b)"
   ]
  },
  {
   "cell_type": "code",
   "execution_count": 171,
   "metadata": {},
   "outputs": [
    {
     "data": {
      "text/plain": [
       "array([[ 2.71828183,  7.3890561 , 20.08553692, 54.59815003],\n",
       "       [ 2.71828183,  7.3890561 , 20.08553692, 54.59815003]])"
      ]
     },
     "execution_count": 171,
     "metadata": {},
     "output_type": "execute_result"
    }
   ],
   "source": [
    "np.exp(a)"
   ]
  },
  {
   "cell_type": "code",
   "execution_count": 170,
   "metadata": {},
   "outputs": [
    {
     "data": {
      "text/plain": [
       "array([[1.        , 1.41421356, 1.73205081, 2.        ],\n",
       "       [1.        , 1.41421356, 1.73205081, 2.        ]])"
      ]
     },
     "execution_count": 170,
     "metadata": {},
     "output_type": "execute_result"
    }
   ],
   "source": [
    "np.sqrt(a)"
   ]
  },
  {
   "cell_type": "code",
   "execution_count": 186,
   "metadata": {},
   "outputs": [
    {
     "data": {
      "text/plain": [
       "inf"
      ]
     },
     "execution_count": 186,
     "metadata": {},
     "output_type": "execute_result"
    }
   ],
   "source": [
    "from math import inf\n",
    "\n",
    "np.sin(0)\n",
    "np.cos(0)\n",
    "np.log(inf)"
   ]
  },
  {
   "cell_type": "code",
   "execution_count": 187,
   "metadata": {},
   "outputs": [
    {
     "data": {
      "text/plain": [
       "array([70, 70])"
      ]
     },
     "execution_count": 187,
     "metadata": {},
     "output_type": "execute_result"
    }
   ],
   "source": [
    "# dot product\n",
    "a.dot(b)"
   ]
  },
  {
   "cell_type": "code",
   "execution_count": 198,
   "metadata": {},
   "outputs": [
    {
     "data": {
      "text/plain": [
       "array([ True,  True,  True,  True,  True])"
      ]
     },
     "execution_count": 198,
     "metadata": {},
     "output_type": "execute_result"
    }
   ],
   "source": [
    "a == b # element wise comparision"
   ]
  },
  {
   "cell_type": "code",
   "execution_count": 201,
   "metadata": {},
   "outputs": [
    {
     "data": {
      "text/plain": [
       "array([ True,  True,  True,  True,  True])"
      ]
     },
     "execution_count": 201,
     "metadata": {},
     "output_type": "execute_result"
    }
   ],
   "source": [
    "a < 10"
   ]
  },
  {
   "cell_type": "code",
   "execution_count": 202,
   "metadata": {},
   "outputs": [
    {
     "data": {
      "text/plain": [
       "False"
      ]
     },
     "execution_count": 202,
     "metadata": {},
     "output_type": "execute_result"
    }
   ],
   "source": [
    "np.array_equal(a,b) # array wise comparision, compares whole array"
   ]
  },
  {
   "cell_type": "code",
   "execution_count": 216,
   "metadata": {},
   "outputs": [
    {
     "data": {
      "text/plain": [
       "1.4142135623730951"
      ]
     },
     "execution_count": 216,
     "metadata": {},
     "output_type": "execute_result"
    }
   ],
   "source": [
    "# Aggregate functions\n",
    "\n",
    "a.sum()\n",
    "a.min()\n",
    "a.max()\n",
    "a.cumsum(axis = 0) # commulative sum of the elemts(rows)\n",
    "a.mean() # mean of all the elements in the array\n",
    "\n",
    "# Correlation coefficient a number between −1 and +1 calculated so as to represent the\n",
    "# linear dependence of two variables or sets of data.\n",
    "#a.corrcoef() \n",
    "\n",
    "np.std(b) # standard deviation "
   ]
  },
  {
   "cell_type": "code",
   "execution_count": 219,
   "metadata": {},
   "outputs": [
    {
     "data": {
      "text/plain": [
       "array([1, 2, 3, 4, 5])"
      ]
     },
     "execution_count": 219,
     "metadata": {},
     "output_type": "execute_result"
    }
   ],
   "source": [
    "# create the view of the array with the same data\n",
    "v = a.view()\n",
    "\n",
    "# create a deep copy array\n",
    "c = np.copy(a)\n",
    "c"
   ]
  },
  {
   "cell_type": "code",
   "execution_count": 226,
   "metadata": {},
   "outputs": [
    {
     "data": {
      "text/plain": [
       "array([ 6,  7,  8,  9, 10])"
      ]
     },
     "execution_count": 226,
     "metadata": {},
     "output_type": "execute_result"
    }
   ],
   "source": [
    "# sorting an array\n",
    "b.sort()\n",
    "b.sort(axis = 0) # axis zero is rows and one is columns\n",
    "b"
   ]
  },
  {
   "cell_type": "code",
   "execution_count": 233,
   "metadata": {},
   "outputs": [
    {
     "data": {
      "text/plain": [
       "array([5, 4, 3, 2, 1])"
      ]
     },
     "execution_count": 233,
     "metadata": {},
     "output_type": "execute_result"
    }
   ],
   "source": [
    "a[::-1]"
   ]
  },
  {
   "cell_type": "code",
   "execution_count": 238,
   "metadata": {},
   "outputs": [
    {
     "data": {
      "text/plain": [
       "array([1, 2])"
      ]
     },
     "execution_count": 238,
     "metadata": {},
     "output_type": "execute_result"
    }
   ],
   "source": [
    "a[a<3]"
   ]
  },
  {
   "cell_type": "code",
   "execution_count": 245,
   "metadata": {},
   "outputs": [
    {
     "name": "stdout",
     "output_type": "stream",
     "text": [
      "[[1 2 3]\n",
      " [4 5 6]\n",
      " [7 8 9]]\n"
     ]
    },
    {
     "data": {
      "text/plain": [
       "array([[1, 4, 7],\n",
       "       [2, 5, 8],\n",
       "       [3, 6, 9]])"
      ]
     },
     "execution_count": 245,
     "metadata": {},
     "output_type": "execute_result"
    }
   ],
   "source": [
    "b = np.array([[1,2,3], [4,5,6], [7,8,9]])\n",
    "print(b)\n",
    "i = np.transpose(b)\n",
    "i # or i.T"
   ]
  },
  {
   "cell_type": "code",
   "execution_count": 246,
   "metadata": {},
   "outputs": [
    {
     "data": {
      "text/plain": [
       "array([1, 2, 3, 4, 5, 6, 7, 8, 9])"
      ]
     },
     "execution_count": 246,
     "metadata": {},
     "output_type": "execute_result"
    }
   ],
   "source": [
    "# flatten the array: change multi dimension array to single dimension\n",
    "b.ravel()"
   ]
  },
  {
   "cell_type": "code",
   "execution_count": 254,
   "metadata": {},
   "outputs": [
    {
     "data": {
      "text/plain": [
       "array([[1, 2, 3],\n",
       "       [4, 5, 6],\n",
       "       [7, 8, 9]])"
      ]
     },
     "execution_count": 254,
     "metadata": {},
     "output_type": "execute_result"
    }
   ],
   "source": [
    "b = np.array([[1,2,3], [4,5,6], [7,8,9]])\n",
    "b.reshape(3,-3) # reshape but don't change the data"
   ]
  },
  {
   "cell_type": "code",
   "execution_count": 259,
   "metadata": {},
   "outputs": [
    {
     "data": {
      "text/plain": [
       "(3, 6)"
      ]
     },
     "execution_count": 259,
     "metadata": {},
     "output_type": "execute_result"
    }
   ],
   "source": [
    "h = np.array([])\n",
    "h.resize(3,6)\n",
    "h.shape"
   ]
  },
  {
   "cell_type": "code",
   "execution_count": 260,
   "metadata": {},
   "outputs": [
    {
     "data": {
      "text/plain": [
       "array([0., 0., 0., 0., 0., 0., 0., 0., 0., 0., 0., 0., 0., 0., 0., 0., 0.,\n",
       "       0., 1., 2., 3., 4., 5., 6., 7., 8., 9.])"
      ]
     },
     "execution_count": 260,
     "metadata": {},
     "output_type": "execute_result"
    }
   ],
   "source": [
    "# append items to an array\n",
    "np.append(h, b)"
   ]
  },
  {
   "cell_type": "code",
   "execution_count": 265,
   "metadata": {},
   "outputs": [
    {
     "data": {
      "text/plain": [
       "array([5, 1, 2, 3, 4, 5])"
      ]
     },
     "execution_count": 265,
     "metadata": {},
     "output_type": "execute_result"
    }
   ],
   "source": [
    "# insert items in the array at index 0 and value 5\n",
    "t = np.insert(a, 0, 5)\n",
    "t"
   ]
  },
  {
   "cell_type": "code",
   "execution_count": 269,
   "metadata": {},
   "outputs": [
    {
     "data": {
      "text/plain": [
       "array([1, 2, 3, 4])"
      ]
     },
     "execution_count": 269,
     "metadata": {},
     "output_type": "execute_result"
    }
   ],
   "source": [
    "# delete item at index 4\n",
    "np.delete(a, [4])"
   ]
  },
  {
   "cell_type": "code",
   "execution_count": 271,
   "metadata": {},
   "outputs": [
    {
     "data": {
      "text/plain": [
       "array([1, 2, 3, 4, 5, 6, 7, 8])"
      ]
     },
     "execution_count": 271,
     "metadata": {},
     "output_type": "execute_result"
    }
   ],
   "source": [
    "# concatenate array\n",
    "a = np.array([1,2,3,4])\n",
    "b = np.array([5,6,7,8])\n",
    "np.concatenate((a,b), axis = 0)"
   ]
  },
  {
   "cell_type": "code",
   "execution_count": 272,
   "metadata": {},
   "outputs": [
    {
     "data": {
      "text/plain": [
       "array([[1, 2, 3, 4],\n",
       "       [5, 6, 7, 8]])"
      ]
     },
     "execution_count": 272,
     "metadata": {},
     "output_type": "execute_result"
    }
   ],
   "source": [
    "# Stack arrays vertically (row-wise)\n",
    "np.vstack((a,b))"
   ]
  },
  {
   "cell_type": "code",
   "execution_count": 273,
   "metadata": {},
   "outputs": [
    {
     "data": {
      "text/plain": [
       "array([1, 2, 3, 4, 5, 6, 7, 8])"
      ]
     },
     "execution_count": 273,
     "metadata": {},
     "output_type": "execute_result"
    }
   ],
   "source": [
    "# Stack arrays horizontally (column-wise)\n",
    "np.hstack((a,b))"
   ]
  },
  {
   "cell_type": "code",
   "execution_count": 274,
   "metadata": {},
   "outputs": [
    {
     "data": {
      "text/plain": [
       "array([[1, 5],\n",
       "       [2, 6],\n",
       "       [3, 7],\n",
       "       [4, 8]])"
      ]
     },
     "execution_count": 274,
     "metadata": {},
     "output_type": "execute_result"
    }
   ],
   "source": [
    "# Create stacked column-wise arrays or np.c_[a,d]\n",
    "np.column_stack((a,b))"
   ]
  },
  {
   "cell_type": "code",
   "execution_count": 278,
   "metadata": {},
   "outputs": [
    {
     "data": {
      "text/plain": [
       "[array([1, 2]), array([3, 4])]"
      ]
     },
     "execution_count": 278,
     "metadata": {},
     "output_type": "execute_result"
    }
   ],
   "source": [
    "# Split the array horizontally at the 3rd index\n",
    "np.hsplit(a,2)"
   ]
  },
  {
   "cell_type": "code",
   "execution_count": 288,
   "metadata": {},
   "outputs": [
    {
     "data": {
      "text/plain": [
       "[array([[1, 2, 3]]), array([[4, 5, 6]]), array([[7, 8, 9]])]"
      ]
     },
     "execution_count": 288,
     "metadata": {},
     "output_type": "execute_result"
    }
   ],
   "source": [
    "# Split the array vertically at the 2nd index\n",
    "b = np.array([[1,2,3], [4,5,6], [7,8,9]])\n",
    "np.vsplit(b,3) "
   ]
  }
 ],
 "metadata": {
  "kernelspec": {
   "display_name": "Python 3",
   "language": "python",
   "name": "python3"
  },
  "language_info": {
   "codemirror_mode": {
    "name": "ipython",
    "version": 3
   },
   "file_extension": ".py",
   "mimetype": "text/x-python",
   "name": "python",
   "nbconvert_exporter": "python",
   "pygments_lexer": "ipython3",
   "version": "3.6.5"
  }
 },
 "nbformat": 4,
 "nbformat_minor": 2
}
